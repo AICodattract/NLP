{
 "cells": [
  {
   "cell_type": "code",
   "execution_count": 48,
   "id": "90fe4053",
   "metadata": {},
   "outputs": [],
   "source": [
    "import pandas as pd\n",
    "import tensorflow as tf\n",
    "import tensorflow_hub as hub\n",
    "import tensorflow_text as text"
   ]
  },
  {
   "cell_type": "code",
   "execution_count": 5,
   "id": "f57d384c",
   "metadata": {},
   "outputs": [],
   "source": [
    "df = pd.read_csv('spam.csv')"
   ]
  },
  {
   "cell_type": "code",
   "execution_count": 9,
   "id": "ccf60289",
   "metadata": {},
   "outputs": [
    {
     "data": {
      "text/html": [
       "<div>\n",
       "<style scoped>\n",
       "    .dataframe tbody tr th:only-of-type {\n",
       "        vertical-align: middle;\n",
       "    }\n",
       "\n",
       "    .dataframe tbody tr th {\n",
       "        vertical-align: top;\n",
       "    }\n",
       "\n",
       "    .dataframe thead th {\n",
       "        text-align: right;\n",
       "    }\n",
       "</style>\n",
       "<table border=\"1\" class=\"dataframe\">\n",
       "  <thead>\n",
       "    <tr style=\"text-align: right;\">\n",
       "      <th></th>\n",
       "      <th>Category</th>\n",
       "      <th>Message</th>\n",
       "    </tr>\n",
       "  </thead>\n",
       "  <tbody>\n",
       "    <tr>\n",
       "      <th>0</th>\n",
       "      <td>ham</td>\n",
       "      <td>Go until jurong point, crazy.. Available only ...</td>\n",
       "    </tr>\n",
       "    <tr>\n",
       "      <th>1</th>\n",
       "      <td>ham</td>\n",
       "      <td>Ok lar... Joking wif u oni...</td>\n",
       "    </tr>\n",
       "    <tr>\n",
       "      <th>2</th>\n",
       "      <td>spam</td>\n",
       "      <td>Free entry in 2 a wkly comp to win FA Cup fina...</td>\n",
       "    </tr>\n",
       "    <tr>\n",
       "      <th>3</th>\n",
       "      <td>ham</td>\n",
       "      <td>U dun say so early hor... U c already then say...</td>\n",
       "    </tr>\n",
       "    <tr>\n",
       "      <th>4</th>\n",
       "      <td>ham</td>\n",
       "      <td>Nah I don't think he goes to usf, he lives aro...</td>\n",
       "    </tr>\n",
       "    <tr>\n",
       "      <th>...</th>\n",
       "      <td>...</td>\n",
       "      <td>...</td>\n",
       "    </tr>\n",
       "    <tr>\n",
       "      <th>5567</th>\n",
       "      <td>spam</td>\n",
       "      <td>This is the 2nd time we have tried 2 contact u...</td>\n",
       "    </tr>\n",
       "    <tr>\n",
       "      <th>5568</th>\n",
       "      <td>ham</td>\n",
       "      <td>Will ü b going to esplanade fr home?</td>\n",
       "    </tr>\n",
       "    <tr>\n",
       "      <th>5569</th>\n",
       "      <td>ham</td>\n",
       "      <td>Pity, * was in mood for that. So...any other s...</td>\n",
       "    </tr>\n",
       "    <tr>\n",
       "      <th>5570</th>\n",
       "      <td>ham</td>\n",
       "      <td>The guy did some bitching but I acted like i'd...</td>\n",
       "    </tr>\n",
       "    <tr>\n",
       "      <th>5571</th>\n",
       "      <td>ham</td>\n",
       "      <td>Rofl. Its true to its name</td>\n",
       "    </tr>\n",
       "  </tbody>\n",
       "</table>\n",
       "<p>5572 rows × 2 columns</p>\n",
       "</div>"
      ],
      "text/plain": [
       "     Category                                            Message\n",
       "0         ham  Go until jurong point, crazy.. Available only ...\n",
       "1         ham                      Ok lar... Joking wif u oni...\n",
       "2        spam  Free entry in 2 a wkly comp to win FA Cup fina...\n",
       "3         ham  U dun say so early hor... U c already then say...\n",
       "4         ham  Nah I don't think he goes to usf, he lives aro...\n",
       "...       ...                                                ...\n",
       "5567     spam  This is the 2nd time we have tried 2 contact u...\n",
       "5568      ham               Will ü b going to esplanade fr home?\n",
       "5569      ham  Pity, * was in mood for that. So...any other s...\n",
       "5570      ham  The guy did some bitching but I acted like i'd...\n",
       "5571      ham                         Rofl. Its true to its name\n",
       "\n",
       "[5572 rows x 2 columns]"
      ]
     },
     "execution_count": 9,
     "metadata": {},
     "output_type": "execute_result"
    }
   ],
   "source": [
    "df"
   ]
  },
  {
   "cell_type": "code",
   "execution_count": 13,
   "id": "1883a085",
   "metadata": {},
   "outputs": [
    {
     "data": {
      "text/html": [
       "<div>\n",
       "<style scoped>\n",
       "    .dataframe tbody tr th:only-of-type {\n",
       "        vertical-align: middle;\n",
       "    }\n",
       "\n",
       "    .dataframe tbody tr th {\n",
       "        vertical-align: top;\n",
       "    }\n",
       "\n",
       "    .dataframe thead tr th {\n",
       "        text-align: left;\n",
       "    }\n",
       "\n",
       "    .dataframe thead tr:last-of-type th {\n",
       "        text-align: right;\n",
       "    }\n",
       "</style>\n",
       "<table border=\"1\" class=\"dataframe\">\n",
       "  <thead>\n",
       "    <tr>\n",
       "      <th></th>\n",
       "      <th colspan=\"4\" halign=\"left\">Message</th>\n",
       "    </tr>\n",
       "    <tr>\n",
       "      <th></th>\n",
       "      <th>count</th>\n",
       "      <th>unique</th>\n",
       "      <th>top</th>\n",
       "      <th>freq</th>\n",
       "    </tr>\n",
       "    <tr>\n",
       "      <th>Category</th>\n",
       "      <th></th>\n",
       "      <th></th>\n",
       "      <th></th>\n",
       "      <th></th>\n",
       "    </tr>\n",
       "  </thead>\n",
       "  <tbody>\n",
       "    <tr>\n",
       "      <th>ham</th>\n",
       "      <td>4825</td>\n",
       "      <td>4516</td>\n",
       "      <td>Sorry, I'll call later</td>\n",
       "      <td>30</td>\n",
       "    </tr>\n",
       "    <tr>\n",
       "      <th>spam</th>\n",
       "      <td>747</td>\n",
       "      <td>641</td>\n",
       "      <td>Please call our customer service representativ...</td>\n",
       "      <td>4</td>\n",
       "    </tr>\n",
       "  </tbody>\n",
       "</table>\n",
       "</div>"
      ],
      "text/plain": [
       "         Message                                                            \\\n",
       "           count unique                                                top   \n",
       "Category                                                                     \n",
       "ham         4825   4516                             Sorry, I'll call later   \n",
       "spam         747    641  Please call our customer service representativ...   \n",
       "\n",
       "               \n",
       "         freq  \n",
       "Category       \n",
       "ham        30  \n",
       "spam        4  "
      ]
     },
     "execution_count": 13,
     "metadata": {},
     "output_type": "execute_result"
    }
   ],
   "source": [
    "df.groupby('Category').describe()"
   ]
  },
  {
   "cell_type": "code",
   "execution_count": null,
   "id": "5d466df1",
   "metadata": {},
   "outputs": [],
   "source": [
    "#Converting the imbalanced dataset to balanced dataset"
   ]
  },
  {
   "cell_type": "code",
   "execution_count": 16,
   "id": "0fa1b2ad",
   "metadata": {},
   "outputs": [
    {
     "data": {
      "text/plain": [
       "(747, 2)"
      ]
     },
     "execution_count": 16,
     "metadata": {},
     "output_type": "execute_result"
    }
   ],
   "source": [
    "df_spam = df[df['Category']=='spam']\n",
    "df_spam.shape"
   ]
  },
  {
   "cell_type": "code",
   "execution_count": 17,
   "id": "ddce9ce8",
   "metadata": {},
   "outputs": [
    {
     "data": {
      "text/plain": [
       "(4825, 2)"
      ]
     },
     "execution_count": 17,
     "metadata": {},
     "output_type": "execute_result"
    }
   ],
   "source": [
    "df_ham = df[df['Category']=='ham']\n",
    "df_ham.shape"
   ]
  },
  {
   "cell_type": "code",
   "execution_count": 18,
   "id": "dedbb912",
   "metadata": {},
   "outputs": [
    {
     "data": {
      "text/plain": [
       "(747, 2)"
      ]
     },
     "execution_count": 18,
     "metadata": {},
     "output_type": "execute_result"
    }
   ],
   "source": [
    "#Down sampling\n",
    "\n",
    "df_downsample = df_ham.sample(df_spam.shape[0])\n",
    "df_downsample.shape"
   ]
  },
  {
   "cell_type": "code",
   "execution_count": 19,
   "id": "fdaad337",
   "metadata": {},
   "outputs": [
    {
     "data": {
      "text/html": [
       "<div>\n",
       "<style scoped>\n",
       "    .dataframe tbody tr th:only-of-type {\n",
       "        vertical-align: middle;\n",
       "    }\n",
       "\n",
       "    .dataframe tbody tr th {\n",
       "        vertical-align: top;\n",
       "    }\n",
       "\n",
       "    .dataframe thead tr th {\n",
       "        text-align: left;\n",
       "    }\n",
       "\n",
       "    .dataframe thead tr:last-of-type th {\n",
       "        text-align: right;\n",
       "    }\n",
       "</style>\n",
       "<table border=\"1\" class=\"dataframe\">\n",
       "  <thead>\n",
       "    <tr>\n",
       "      <th></th>\n",
       "      <th colspan=\"4\" halign=\"left\">Message</th>\n",
       "    </tr>\n",
       "    <tr>\n",
       "      <th></th>\n",
       "      <th>count</th>\n",
       "      <th>unique</th>\n",
       "      <th>top</th>\n",
       "      <th>freq</th>\n",
       "    </tr>\n",
       "    <tr>\n",
       "      <th>Category</th>\n",
       "      <th></th>\n",
       "      <th></th>\n",
       "      <th></th>\n",
       "      <th></th>\n",
       "    </tr>\n",
       "  </thead>\n",
       "  <tbody>\n",
       "    <tr>\n",
       "      <th>ham</th>\n",
       "      <td>747</td>\n",
       "      <td>735</td>\n",
       "      <td>Sorry, I'll call later</td>\n",
       "      <td>4</td>\n",
       "    </tr>\n",
       "    <tr>\n",
       "      <th>spam</th>\n",
       "      <td>747</td>\n",
       "      <td>641</td>\n",
       "      <td>Please call our customer service representativ...</td>\n",
       "      <td>4</td>\n",
       "    </tr>\n",
       "  </tbody>\n",
       "</table>\n",
       "</div>"
      ],
      "text/plain": [
       "         Message                                                            \\\n",
       "           count unique                                                top   \n",
       "Category                                                                     \n",
       "ham          747    735                             Sorry, I'll call later   \n",
       "spam         747    641  Please call our customer service representativ...   \n",
       "\n",
       "               \n",
       "         freq  \n",
       "Category       \n",
       "ham         4  \n",
       "spam        4  "
      ]
     },
     "execution_count": 19,
     "metadata": {},
     "output_type": "execute_result"
    }
   ],
   "source": [
    "df_balanced = pd.concat([df_spam,df_downsample])\n",
    "df_balanced.groupby('Category').describe()"
   ]
  },
  {
   "cell_type": "code",
   "execution_count": 20,
   "id": "f4421cab",
   "metadata": {},
   "outputs": [
    {
     "data": {
      "text/html": [
       "<div>\n",
       "<style scoped>\n",
       "    .dataframe tbody tr th:only-of-type {\n",
       "        vertical-align: middle;\n",
       "    }\n",
       "\n",
       "    .dataframe tbody tr th {\n",
       "        vertical-align: top;\n",
       "    }\n",
       "\n",
       "    .dataframe thead th {\n",
       "        text-align: right;\n",
       "    }\n",
       "</style>\n",
       "<table border=\"1\" class=\"dataframe\">\n",
       "  <thead>\n",
       "    <tr style=\"text-align: right;\">\n",
       "      <th></th>\n",
       "      <th>Category</th>\n",
       "      <th>Message</th>\n",
       "    </tr>\n",
       "  </thead>\n",
       "  <tbody>\n",
       "    <tr>\n",
       "      <th>2</th>\n",
       "      <td>spam</td>\n",
       "      <td>Free entry in 2 a wkly comp to win FA Cup fina...</td>\n",
       "    </tr>\n",
       "    <tr>\n",
       "      <th>5</th>\n",
       "      <td>spam</td>\n",
       "      <td>FreeMsg Hey there darling it's been 3 week's n...</td>\n",
       "    </tr>\n",
       "    <tr>\n",
       "      <th>8</th>\n",
       "      <td>spam</td>\n",
       "      <td>WINNER!! As a valued network customer you have...</td>\n",
       "    </tr>\n",
       "    <tr>\n",
       "      <th>9</th>\n",
       "      <td>spam</td>\n",
       "      <td>Had your mobile 11 months or more? U R entitle...</td>\n",
       "    </tr>\n",
       "    <tr>\n",
       "      <th>11</th>\n",
       "      <td>spam</td>\n",
       "      <td>SIX chances to win CASH! From 100 to 20,000 po...</td>\n",
       "    </tr>\n",
       "  </tbody>\n",
       "</table>\n",
       "</div>"
      ],
      "text/plain": [
       "   Category                                            Message\n",
       "2      spam  Free entry in 2 a wkly comp to win FA Cup fina...\n",
       "5      spam  FreeMsg Hey there darling it's been 3 week's n...\n",
       "8      spam  WINNER!! As a valued network customer you have...\n",
       "9      spam  Had your mobile 11 months or more? U R entitle...\n",
       "11     spam  SIX chances to win CASH! From 100 to 20,000 po..."
      ]
     },
     "execution_count": 20,
     "metadata": {},
     "output_type": "execute_result"
    }
   ],
   "source": [
    "df_balanced.head(5)"
   ]
  },
  {
   "cell_type": "code",
   "execution_count": 28,
   "id": "e313e891",
   "metadata": {},
   "outputs": [],
   "source": [
    "# encoding the text category column\n",
    "df_balanced['spam'] = pd.get_dummies(df_balanced.Category, drop_first=True)"
   ]
  },
  {
   "cell_type": "code",
   "execution_count": 29,
   "id": "48105f88",
   "metadata": {},
   "outputs": [
    {
     "data": {
      "text/html": [
       "<div>\n",
       "<style scoped>\n",
       "    .dataframe tbody tr th:only-of-type {\n",
       "        vertical-align: middle;\n",
       "    }\n",
       "\n",
       "    .dataframe tbody tr th {\n",
       "        vertical-align: top;\n",
       "    }\n",
       "\n",
       "    .dataframe thead th {\n",
       "        text-align: right;\n",
       "    }\n",
       "</style>\n",
       "<table border=\"1\" class=\"dataframe\">\n",
       "  <thead>\n",
       "    <tr style=\"text-align: right;\">\n",
       "      <th></th>\n",
       "      <th>Category</th>\n",
       "      <th>Message</th>\n",
       "      <th>spam</th>\n",
       "    </tr>\n",
       "  </thead>\n",
       "  <tbody>\n",
       "    <tr>\n",
       "      <th>2</th>\n",
       "      <td>spam</td>\n",
       "      <td>Free entry in 2 a wkly comp to win FA Cup fina...</td>\n",
       "      <td>1</td>\n",
       "    </tr>\n",
       "    <tr>\n",
       "      <th>5</th>\n",
       "      <td>spam</td>\n",
       "      <td>FreeMsg Hey there darling it's been 3 week's n...</td>\n",
       "      <td>1</td>\n",
       "    </tr>\n",
       "    <tr>\n",
       "      <th>8</th>\n",
       "      <td>spam</td>\n",
       "      <td>WINNER!! As a valued network customer you have...</td>\n",
       "      <td>1</td>\n",
       "    </tr>\n",
       "    <tr>\n",
       "      <th>9</th>\n",
       "      <td>spam</td>\n",
       "      <td>Had your mobile 11 months or more? U R entitle...</td>\n",
       "      <td>1</td>\n",
       "    </tr>\n",
       "    <tr>\n",
       "      <th>11</th>\n",
       "      <td>spam</td>\n",
       "      <td>SIX chances to win CASH! From 100 to 20,000 po...</td>\n",
       "      <td>1</td>\n",
       "    </tr>\n",
       "  </tbody>\n",
       "</table>\n",
       "</div>"
      ],
      "text/plain": [
       "   Category                                            Message  spam\n",
       "2      spam  Free entry in 2 a wkly comp to win FA Cup fina...     1\n",
       "5      spam  FreeMsg Hey there darling it's been 3 week's n...     1\n",
       "8      spam  WINNER!! As a valued network customer you have...     1\n",
       "9      spam  Had your mobile 11 months or more? U R entitle...     1\n",
       "11     spam  SIX chances to win CASH! From 100 to 20,000 po...     1"
      ]
     },
     "execution_count": 29,
     "metadata": {},
     "output_type": "execute_result"
    }
   ],
   "source": [
    "df_balanced.head()"
   ]
  },
  {
   "cell_type": "code",
   "execution_count": 30,
   "id": "8ff15ce9",
   "metadata": {},
   "outputs": [],
   "source": [
    "df_balanced.drop(['Category'], axis=1, inplace=True)"
   ]
  },
  {
   "cell_type": "code",
   "execution_count": 31,
   "id": "3e9dbf8f",
   "metadata": {},
   "outputs": [
    {
     "data": {
      "text/html": [
       "<div>\n",
       "<style scoped>\n",
       "    .dataframe tbody tr th:only-of-type {\n",
       "        vertical-align: middle;\n",
       "    }\n",
       "\n",
       "    .dataframe tbody tr th {\n",
       "        vertical-align: top;\n",
       "    }\n",
       "\n",
       "    .dataframe thead th {\n",
       "        text-align: right;\n",
       "    }\n",
       "</style>\n",
       "<table border=\"1\" class=\"dataframe\">\n",
       "  <thead>\n",
       "    <tr style=\"text-align: right;\">\n",
       "      <th></th>\n",
       "      <th>Message</th>\n",
       "      <th>spam</th>\n",
       "    </tr>\n",
       "  </thead>\n",
       "  <tbody>\n",
       "    <tr>\n",
       "      <th>2</th>\n",
       "      <td>Free entry in 2 a wkly comp to win FA Cup fina...</td>\n",
       "      <td>1</td>\n",
       "    </tr>\n",
       "    <tr>\n",
       "      <th>5</th>\n",
       "      <td>FreeMsg Hey there darling it's been 3 week's n...</td>\n",
       "      <td>1</td>\n",
       "    </tr>\n",
       "    <tr>\n",
       "      <th>8</th>\n",
       "      <td>WINNER!! As a valued network customer you have...</td>\n",
       "      <td>1</td>\n",
       "    </tr>\n",
       "    <tr>\n",
       "      <th>9</th>\n",
       "      <td>Had your mobile 11 months or more? U R entitle...</td>\n",
       "      <td>1</td>\n",
       "    </tr>\n",
       "    <tr>\n",
       "      <th>11</th>\n",
       "      <td>SIX chances to win CASH! From 100 to 20,000 po...</td>\n",
       "      <td>1</td>\n",
       "    </tr>\n",
       "  </tbody>\n",
       "</table>\n",
       "</div>"
      ],
      "text/plain": [
       "                                              Message  spam\n",
       "2   Free entry in 2 a wkly comp to win FA Cup fina...     1\n",
       "5   FreeMsg Hey there darling it's been 3 week's n...     1\n",
       "8   WINNER!! As a valued network customer you have...     1\n",
       "9   Had your mobile 11 months or more? U R entitle...     1\n",
       "11  SIX chances to win CASH! From 100 to 20,000 po...     1"
      ]
     },
     "execution_count": 31,
     "metadata": {},
     "output_type": "execute_result"
    }
   ],
   "source": [
    "df_balanced.head()"
   ]
  },
  {
   "cell_type": "code",
   "execution_count": 33,
   "id": "f12f07ed",
   "metadata": {},
   "outputs": [],
   "source": [
    "from sklearn.model_selection import train_test_split\n",
    "X_train,X_test,y_train, y_test = train_test_split(df_balanced['Message'],df_balanced['spam'], stratify=df_balanced['spam'])"
   ]
  },
  {
   "cell_type": "code",
   "execution_count": 36,
   "id": "10730942",
   "metadata": {},
   "outputs": [
    {
     "data": {
      "text/plain": [
       "(1120,)"
      ]
     },
     "execution_count": 36,
     "metadata": {},
     "output_type": "execute_result"
    }
   ],
   "source": [
    "X_train.shape"
   ]
  },
  {
   "cell_type": "code",
   "execution_count": 2,
   "id": "e80d8f6c",
   "metadata": {},
   "outputs": [],
   "source": [
    "preprocess_url = 'https://tfhub.dev/tensorflow/bert_en_uncased_preprocess/3' \n",
    "encoder_url = 'https://tfhub.dev/tensorflow/bert_en_uncased_L-12_H-768_A-12/4'"
   ]
  },
  {
   "cell_type": "code",
   "execution_count": 38,
   "id": "fcf16bc7",
   "metadata": {},
   "outputs": [],
   "source": [
    "bert_preprocess = hub.KerasLayer(preprocess_url)\n",
    "bert_encoder = hub.KerasLayer(encoder_url)"
   ]
  },
  {
   "cell_type": "code",
   "execution_count": 39,
   "id": "90f7ced4",
   "metadata": {},
   "outputs": [],
   "source": [
    "def get_sentence_embedding(Sentences):\n",
    "    preprocessed_text = bert_preprocess(Sentences)\n",
    "    return bert_encoder(preprocessed_text)['pooled_output']"
   ]
  },
  {
   "cell_type": "code",
   "execution_count": 40,
   "id": "879b5633",
   "metadata": {},
   "outputs": [],
   "source": [
    "e= get_sentence_embedding(\n",
    "[\n",
    "    'Grapes',\n",
    "    'Banana',\n",
    "    'Jeff bezos',\n",
    "    'Bill Gates'\n",
    "])\n"
   ]
  },
  {
   "cell_type": "code",
   "execution_count": 41,
   "id": "ed2d5838",
   "metadata": {},
   "outputs": [
    {
     "data": {
      "text/plain": [
       "<tf.Tensor: shape=(768,), dtype=float32, numpy=\n",
       "array([-8.60232115e-01, -2.12429434e-01,  4.91568863e-01,  6.92563057e-01,\n",
       "       -3.30052406e-01, -1.40575528e-01,  9.22929645e-01,  1.98044851e-01,\n",
       "        1.72779053e-01, -9.99786615e-01,  1.84800904e-02,  2.22860381e-01,\n",
       "        9.63335872e-01, -1.37402520e-01,  9.09067273e-01, -6.16936028e-01,\n",
       "       -2.00021833e-01, -5.61885417e-01,  4.16765541e-01, -8.19490969e-01,\n",
       "        5.30651808e-01,  8.38440180e-01,  4.94481474e-01,  3.06373864e-01,\n",
       "        3.90681058e-01,  2.38232911e-01, -5.68000019e-01,  9.01755154e-01,\n",
       "        9.34361815e-01,  6.79499626e-01, -6.92578197e-01,  1.88730538e-01,\n",
       "       -9.68373597e-01, -2.02293187e-01,  4.33047324e-01, -9.70722914e-01,\n",
       "        1.85543060e-01, -7.50942826e-01, -6.77514896e-02, -2.69225575e-02,\n",
       "       -8.55486751e-01,  2.66132712e-01,  9.94937241e-01,  1.47690877e-01,\n",
       "        1.83297638e-02, -3.44092488e-01, -9.99768496e-01,  2.55884081e-01,\n",
       "       -8.28456879e-01, -2.80603021e-01, -1.87773049e-01, -5.98622441e-01,\n",
       "        1.37139142e-01,  4.21045214e-01,  3.73019755e-01,  3.41482878e-01,\n",
       "       -9.87460613e-02,  1.62401095e-01, -1.29016176e-01, -5.23672462e-01,\n",
       "       -5.50711572e-01,  2.97456831e-01,  6.49671406e-02, -8.58457685e-01,\n",
       "       -2.72140890e-01, -5.99336743e-01, -1.79290786e-01, -2.83782005e-01,\n",
       "       -2.90254299e-02,  3.60105634e-02,  8.11771095e-01,  2.05943778e-01,\n",
       "        4.11279619e-01, -7.23857105e-01, -4.10607874e-01,  1.45916447e-01,\n",
       "       -4.06640828e-01,  9.99997616e-01, -4.80118275e-01, -9.58899379e-01,\n",
       "       -4.89653051e-01, -2.02826470e-01,  2.93014914e-01,  5.25260746e-01,\n",
       "       -5.04094660e-01, -9.99980569e-01,  2.93495387e-01, -1.21875472e-01,\n",
       "       -9.79329467e-01,  2.32335851e-01,  3.09639305e-01, -2.13346899e-01,\n",
       "       -6.56446874e-01,  2.78443128e-01, -1.72125831e-01, -9.76166576e-02,\n",
       "       -2.61633724e-01,  3.90692890e-01, -1.70650631e-01,  2.40025539e-02,\n",
       "        7.23453686e-02, -1.81497633e-01, -6.15510577e-03, -2.80578792e-01,\n",
       "        1.53631002e-01, -3.34838033e-01, -4.21203762e-01,  1.07122481e-01,\n",
       "       -1.23025678e-01,  6.07836604e-01,  2.30932206e-01, -2.75331378e-01,\n",
       "        2.98664004e-01, -9.44508851e-01,  5.94746530e-01, -2.18822449e-01,\n",
       "       -9.65698779e-01, -3.57045084e-01, -9.73714471e-01,  6.66076481e-01,\n",
       "       -6.64983690e-03, -1.79541528e-01,  9.40959156e-01,  6.05732560e-01,\n",
       "        2.13224471e-01, -4.85525876e-02,  3.75326753e-01, -9.99999344e-01,\n",
       "       -3.75918239e-01, -1.77663982e-01,  1.86201289e-01, -1.05893858e-01,\n",
       "       -9.57925677e-01, -9.12004709e-01,  5.41629732e-01,  9.34346199e-01,\n",
       "        9.47688371e-02,  9.91428673e-01, -2.42254779e-01,  8.77684951e-01,\n",
       "        6.74600080e-02, -5.96781261e-02, -2.27097526e-01, -3.24969113e-01,\n",
       "        2.06542969e-01,  5.20675123e-01, -6.38881445e-01,  2.86375344e-01,\n",
       "        2.38818452e-02, -1.28204469e-02, -3.41747664e-02, -2.35018268e-01,\n",
       "        2.97372669e-01, -9.11120653e-01, -4.22759563e-01,  9.13512826e-01,\n",
       "        2.45808735e-01,  3.46148521e-01,  6.17861867e-01, -1.98357657e-01,\n",
       "       -4.42394525e-01,  7.93412924e-01,  1.70951352e-01,  3.39641929e-01,\n",
       "       -7.03759864e-02,  3.37206125e-01, -1.20660156e-01,  4.23785031e-01,\n",
       "       -7.97986329e-01,  1.26908913e-01,  3.28726560e-01, -2.01538876e-01,\n",
       "        4.31065202e-01, -9.52837706e-01, -3.69112164e-01,  4.67389107e-01,\n",
       "        9.77407575e-01,  6.94793940e-01,  2.13005573e-01,  1.06499232e-01,\n",
       "       -2.13846520e-01,  3.00974339e-01, -9.00863230e-01,  9.47369397e-01,\n",
       "       -2.19492853e-01,  2.34291881e-01,  5.29831052e-01, -3.91865045e-01,\n",
       "       -8.41322660e-01, -3.38235110e-01,  8.25469375e-01, -1.44207433e-01,\n",
       "       -8.05028558e-01, -1.30270608e-02, -4.37638044e-01, -4.02495950e-01,\n",
       "        2.51807183e-01,  5.36667466e-01, -2.77701199e-01, -3.85089874e-01,\n",
       "       -3.57682854e-02,  8.76712084e-01,  9.60643888e-01,  8.06672037e-01,\n",
       "       -5.05685091e-01,  5.04357517e-01, -8.76807213e-01, -4.74800587e-01,\n",
       "        1.17923655e-01,  2.86824644e-01,  1.83025032e-01,  9.87448573e-01,\n",
       "        1.86224848e-01, -1.34126157e-01, -8.76460612e-01, -9.62768912e-01,\n",
       "        1.16093591e-01, -8.75135481e-01, -3.00948862e-02, -6.06800020e-01,\n",
       "        2.25683302e-01,  6.72917306e-01, -7.30387866e-02,  3.65324199e-01,\n",
       "       -9.76884663e-01, -7.34165907e-01,  3.60744923e-01, -1.51962698e-01,\n",
       "        3.57772738e-01, -2.04466671e-01, -3.51044759e-02, -2.41533011e-01,\n",
       "       -4.99645293e-01,  8.20773721e-01,  8.13025773e-01,  6.06278062e-01,\n",
       "       -6.35149240e-01,  8.25244844e-01, -2.51311243e-01,  8.38957787e-01,\n",
       "       -5.95385313e-01,  9.64336157e-01, -1.66726798e-01,  4.23871994e-01,\n",
       "       -9.03689623e-01,  4.91925508e-01, -9.04841363e-01,  1.80065259e-01,\n",
       "       -1.69475466e-01, -6.29936218e-01, -2.12643310e-01,  3.26785684e-01,\n",
       "        2.71459013e-01,  7.53945470e-01, -5.13436735e-01,  9.95781660e-01,\n",
       "       -1.72301754e-02, -9.12504494e-01,  4.52562749e-01, -1.19067051e-01,\n",
       "       -9.68191981e-01, -2.06061214e-01,  3.02383721e-01, -5.03458500e-01,\n",
       "       -2.84725904e-01, -3.48807335e-01, -9.17535722e-01,  8.94585490e-01,\n",
       "        2.13473886e-01,  9.83578920e-01,  2.37660348e-01, -9.17299390e-01,\n",
       "       -2.81264037e-01, -8.46207261e-01, -7.25591928e-02, -4.10251804e-02,\n",
       "        5.89215338e-01, -7.01912418e-02, -9.36810732e-01,  4.41841215e-01,\n",
       "        5.18956184e-01,  3.84629101e-01,  6.40354931e-01,  9.93326068e-01,\n",
       "        9.97184336e-01,  9.47779238e-01,  8.49388361e-01,  8.58040512e-01,\n",
       "       -6.98677003e-01,  1.07627869e-01,  9.99857664e-01, -2.94108659e-01,\n",
       "       -9.99915898e-01, -9.09381449e-01, -6.14078641e-01,  4.41534787e-01,\n",
       "       -9.99999046e-01, -4.63980399e-02, -3.33472379e-02, -8.91325235e-01,\n",
       "       -3.20178509e-01,  9.59690213e-01,  9.84421909e-01, -9.99994338e-01,\n",
       "        8.44625115e-01,  9.13797975e-01, -4.39694077e-01,  2.44828582e-01,\n",
       "       -1.15374014e-01,  9.47589278e-01,  2.47194022e-01,  3.34121495e-01,\n",
       "       -1.25417620e-01,  2.48782024e-01,  3.05874981e-02, -8.22946072e-01,\n",
       "        4.32298928e-01,  4.96797651e-01,  1.66694880e-01,  2.69324780e-01,\n",
       "       -6.93851948e-01, -8.91936004e-01, -3.08372617e-01, -1.22698463e-01,\n",
       "       -2.08049387e-01, -9.26508725e-01, -2.41321951e-01, -3.55534732e-01,\n",
       "        5.80442846e-01,  1.18333630e-01,  1.78014576e-01, -7.52854764e-01,\n",
       "        1.52450755e-01, -7.00227022e-01,  3.95401478e-01,  4.23464447e-01,\n",
       "       -8.90885234e-01, -6.04042351e-01, -3.87061030e-01, -3.28317285e-01,\n",
       "        3.13280284e-01, -8.98848176e-01,  9.56966043e-01, -2.84382671e-01,\n",
       "       -3.24864537e-02,  9.99996245e-01, -2.39980876e-01, -8.48572612e-01,\n",
       "        2.16286987e-01,  1.51764974e-01, -1.98745728e-01,  9.99991715e-01,\n",
       "        2.68508792e-01, -9.54278946e-01, -2.95532167e-01,  2.23530084e-03,\n",
       "       -3.30346614e-01, -2.75652468e-01,  9.96197283e-01, -2.10688442e-01,\n",
       "        3.26483667e-01,  3.17686290e-01,  9.37798619e-01, -9.73962843e-01,\n",
       "       -2.48141095e-01, -8.84082556e-01, -9.34404612e-01,  9.31784451e-01,\n",
       "        8.99575293e-01, -4.31726202e-02, -6.02585256e-01,  1.04664363e-01,\n",
       "        1.47190571e-01,  2.63082206e-01, -9.45035636e-01,  6.09363317e-01,\n",
       "        4.70976472e-01, -1.21812351e-01,  8.73900950e-01, -8.69956613e-01,\n",
       "       -3.19895446e-01,  3.79324406e-01,  1.85728833e-01,  2.81285822e-01,\n",
       "       -3.86978507e-01,  4.10726428e-01, -2.79539764e-01,  1.14955373e-01,\n",
       "       -3.21928889e-01,  2.08933651e-01, -9.46098745e-01, -1.30460635e-01,\n",
       "        9.99987423e-01,  1.06425948e-01, -5.73245227e-01, -1.25048846e-01,\n",
       "       -1.27992049e-01, -2.82209963e-01,  2.67916471e-01,  3.27705115e-01,\n",
       "       -3.13348442e-01, -7.89387703e-01, -2.93673903e-01, -8.94164622e-01,\n",
       "       -9.60044503e-01,  7.52535999e-01,  2.16929078e-01, -2.94645548e-01,\n",
       "        9.97454405e-01,  9.14107114e-02,  1.88372001e-01, -2.08458573e-01,\n",
       "        5.88466264e-02,  3.62109393e-02,  5.49041390e-01, -4.93225664e-01,\n",
       "        9.41938102e-01, -2.56352127e-01,  3.28209400e-01,  8.27676952e-01,\n",
       "        2.87283659e-01, -2.77634472e-01, -6.06314719e-01,  1.39300019e-01,\n",
       "       -8.61383140e-01, -1.75160412e-02, -9.19573009e-01,  9.29094911e-01,\n",
       "       -4.75139797e-01,  3.53751481e-01,  1.37364373e-01, -2.41246864e-01,\n",
       "        9.99994040e-01,  2.96027035e-01,  5.61836839e-01, -7.06804812e-01,\n",
       "        8.57661247e-01, -4.00718331e-01, -6.16141140e-01, -3.18743646e-01,\n",
       "       -2.83700041e-02,  4.05675501e-01, -2.66871274e-01,  2.48931542e-01,\n",
       "       -9.56027389e-01, -2.21109763e-01, -1.49414226e-01, -9.74426150e-01,\n",
       "       -9.81878519e-01,  5.01864493e-01,  7.39776254e-01,  1.32378623e-01,\n",
       "       -7.94941336e-02, -6.72786236e-01, -5.29200912e-01,  3.21317613e-01,\n",
       "       -2.08509058e-01, -9.02726650e-01,  4.76343066e-01, -1.97375372e-01,\n",
       "        3.96813750e-01, -1.82997927e-01,  3.45748663e-01, -4.85568136e-01,\n",
       "        7.37994671e-01,  6.80425525e-01,  2.20234618e-01, -9.84501615e-02,\n",
       "       -8.02459121e-01,  7.71231771e-01, -8.05403411e-01,  2.04108387e-01,\n",
       "       -1.67512178e-01,  9.99998510e-01, -2.06540212e-01, -3.04790944e-01,\n",
       "        7.11694956e-01,  6.60067260e-01, -3.72689366e-02,  1.96177408e-01,\n",
       "       -4.14376378e-01,  1.99292615e-01,  4.78790075e-01,  4.51432705e-01,\n",
       "       -8.47392380e-01, -2.81243831e-01,  4.80277926e-01, -5.49083054e-01,\n",
       "       -5.31406581e-01,  7.20046103e-01,  1.71618827e-03,  1.33578509e-01,\n",
       "       -4.41697659e-04,  1.01596981e-01,  9.98431921e-01, -2.85245448e-01,\n",
       "       -6.55048266e-02, -4.37649816e-01, -9.13674980e-02, -2.66950220e-01,\n",
       "       -7.47966528e-01,  9.99938190e-01,  3.38963300e-01, -1.91106558e-01,\n",
       "       -9.75494564e-01,  3.38444054e-01, -8.95028770e-01,  9.90425467e-01,\n",
       "        6.95282578e-01, -8.35147858e-01,  3.72763902e-01,  2.90434361e-01,\n",
       "       -1.09584749e-01,  7.88697839e-01, -2.05607384e-01, -2.65126020e-01,\n",
       "        9.39356759e-02,  2.01788306e-01,  9.34568942e-01, -3.65483671e-01,\n",
       "       -9.39106464e-01, -4.92300510e-01,  3.21797073e-01, -9.35964406e-01,\n",
       "        7.00740755e-01, -5.17078876e-01, -1.07638143e-01, -2.38507241e-01,\n",
       "        3.22183162e-01,  8.85600150e-01,  1.33157633e-02, -9.49912786e-01,\n",
       "       -2.23297790e-01,  7.80680478e-02,  9.40872312e-01,  1.41082674e-01,\n",
       "       -3.14829588e-01, -9.06088948e-01, -5.03736258e-01, -7.18157366e-02,\n",
       "        4.69314426e-01, -9.05074060e-01,  9.44972277e-01, -9.70604837e-01,\n",
       "        3.56531292e-01,  9.99939263e-01,  2.35994503e-01, -5.41379154e-01,\n",
       "        2.62132943e-01, -3.96297514e-01,  1.85977146e-01,  2.07876414e-01,\n",
       "        5.12487292e-01, -9.14031506e-01, -2.04764619e-01, -1.50624081e-01,\n",
       "        2.17621744e-01, -1.56366646e-01,  4.67478126e-01,  5.76540232e-01,\n",
       "        1.95604056e-01, -2.98857152e-01, -4.90639329e-01, -6.87749982e-02,\n",
       "        3.99837434e-01,  7.13301182e-01, -2.96281248e-01, -1.06375940e-01,\n",
       "        1.31063014e-01, -1.15313537e-01, -9.04753983e-01, -1.82773232e-01,\n",
       "       -1.70390859e-01, -9.28339481e-01,  6.12139881e-01, -9.99997318e-01,\n",
       "       -3.69984210e-01, -5.45515656e-01, -1.91154450e-01,  7.90776670e-01,\n",
       "       -1.92558691e-01, -3.51861805e-01, -6.63255394e-01,  3.34718913e-01,\n",
       "        7.53655136e-01,  7.07843781e-01, -2.17415005e-01,  6.31974638e-02,\n",
       "       -6.95263505e-01,  1.95138708e-01, -8.39039385e-02,  1.92083463e-01,\n",
       "        1.74206749e-01,  6.74125254e-01, -1.89410970e-01,  9.99998927e-01,\n",
       "        7.94405267e-02, -4.38683748e-01, -9.70255494e-01,  2.46680975e-01,\n",
       "       -2.33384728e-01,  9.98535633e-01, -8.91003609e-01, -9.02297735e-01,\n",
       "        2.64077485e-01, -2.80851752e-01, -7.32343614e-01,  1.61663890e-01,\n",
       "        3.67720537e-02, -5.76134801e-01,  6.83291331e-02,  9.37115610e-01,\n",
       "        8.94410789e-01, -2.69126743e-01,  2.20823288e-01, -2.92097270e-01,\n",
       "       -4.00089353e-01,  9.73747075e-02, -4.45473433e-01,  9.70799565e-01,\n",
       "        1.68030187e-01,  8.60497117e-01,  6.90582514e-01,  2.61007577e-01,\n",
       "        9.31004047e-01,  1.40819818e-01,  7.07625568e-01,  1.40859053e-01,\n",
       "        9.99952316e-01,  2.88131714e-01, -8.97689283e-01,  1.92123577e-01,\n",
       "       -9.75999832e-01, -2.22458139e-01, -9.34004128e-01,  2.54863799e-01,\n",
       "        1.07726425e-01,  8.02770793e-01, -2.96418518e-01,  9.39634323e-01,\n",
       "        4.61320043e-01,  1.08623244e-01,  1.00684807e-01,  4.48275238e-01,\n",
       "        3.31490397e-01, -8.92698944e-01, -9.70465004e-01, -9.76322055e-01,\n",
       "        1.47991449e-01, -4.49418992e-01, -6.83658347e-02,  2.69151092e-01,\n",
       "        1.54760510e-01,  3.80128622e-01,  2.88878798e-01, -9.99883115e-01,\n",
       "        8.99814248e-01,  3.78452927e-01, -4.11869615e-01,  9.31546509e-01,\n",
       "        2.21148103e-01,  1.20086715e-01,  2.66600072e-01, -9.74233031e-01,\n",
       "       -9.53459144e-01, -3.25192600e-01, -2.68690526e-01,  7.80810773e-01,\n",
       "        5.31338513e-01,  7.76862681e-01,  4.03981924e-01, -4.66518044e-01,\n",
       "       -4.18027714e-02,  3.91478568e-01,  7.59659614e-03, -9.82374310e-01,\n",
       "        4.06040967e-01,  3.01660299e-01, -9.62697625e-01,  9.24109399e-01,\n",
       "       -5.66914856e-01, -2.08805934e-01,  5.89745343e-01,  2.84212500e-01,\n",
       "        9.38878834e-01,  7.46098518e-01,  5.47299623e-01,  2.03386158e-01,\n",
       "        5.39393902e-01,  8.37600708e-01,  9.34212565e-01,  9.72031713e-01,\n",
       "        2.61889279e-01,  7.26337850e-01,  3.79810840e-01,  3.26161146e-01,\n",
       "        2.09576130e-01, -9.01619613e-01,  1.03697009e-01, -1.41766354e-01,\n",
       "       -3.08679556e-03,  2.22520202e-01, -2.32395411e-01, -9.47457433e-01,\n",
       "        3.67076963e-01, -1.60707727e-01,  4.91457492e-01, -3.46686006e-01,\n",
       "        1.30233228e-01, -3.90656173e-01, -1.92463309e-01, -6.41674817e-01,\n",
       "       -4.01242107e-01,  3.72358114e-01,  3.37895691e-01,  9.06483829e-01,\n",
       "        4.68444526e-02, -7.62708709e-02, -5.92994213e-01, -1.29734352e-01,\n",
       "        4.31395620e-01, -8.81842792e-01,  9.12893951e-01, -9.49427933e-02,\n",
       "        4.71094280e-01, -4.29635763e-01,  3.51906866e-02,  4.83457088e-01,\n",
       "       -3.05197686e-01, -3.28391254e-01, -1.99929580e-01, -6.86863899e-01,\n",
       "        7.76317239e-01,  9.05053131e-03, -4.67417061e-01, -4.33965504e-01,\n",
       "        6.66243374e-01,  3.38980913e-01,  8.93360078e-01,  2.81118006e-01,\n",
       "        1.88342243e-01,  3.64274271e-02, -1.51408896e-01,  2.47587323e-01,\n",
       "       -3.09293985e-01, -9.99901354e-01,  4.04629380e-01,  2.47302651e-01,\n",
       "       -2.41053328e-01,  1.47654384e-03, -4.39864337e-01, -5.26513495e-02,\n",
       "       -9.69970882e-01, -2.05373541e-01, -2.95816690e-01, -3.07719320e-01,\n",
       "       -4.99315649e-01, -4.54787552e-01,  2.94502556e-01,  3.49835128e-01,\n",
       "       -2.86382698e-02,  8.38965297e-01,  1.32158503e-01,  5.66082716e-01,\n",
       "        3.91761452e-01,  3.97980303e-01, -6.05062842e-01,  8.44716370e-01],\n",
       "      dtype=float32)>"
      ]
     },
     "execution_count": 41,
     "metadata": {},
     "output_type": "execute_result"
    }
   ],
   "source": [
    "e[0]"
   ]
  },
  {
   "cell_type": "code",
   "execution_count": 46,
   "id": "0c81df98",
   "metadata": {},
   "outputs": [
    {
     "data": {
      "text/plain": [
       "array([[0.8759414]], dtype=float32)"
      ]
     },
     "execution_count": 46,
     "metadata": {},
     "output_type": "execute_result"
    }
   ],
   "source": [
    "from sklearn.metrics.pairwise import cosine_similarity\n",
    "\n",
    "cosine_similarity([e[3]],[e[2]])"
   ]
  },
  {
   "cell_type": "code",
   "execution_count": 49,
   "id": "28cd6fb9",
   "metadata": {},
   "outputs": [],
   "source": [
    "#Build model\n",
    "# Bert layers\n",
    "text_input = tf.keras.layers.Input(shape=(), dtype=tf.string, name='text')\n",
    "preprocessed_text = bert_preprocess(text_input)\n",
    "outputs = bert_encoder(preprocessed_text)\n",
    "\n",
    "# Neural network layers\n",
    "l = tf.keras.layers.Dropout(0.1, name=\"dropout\")(outputs['pooled_output'])\n",
    "l = tf.keras.layers.Dense(1, activation='sigmoid', name=\"output\")(l)\n",
    "\n",
    "# Use inputs and outputs to construct a final model\n",
    "model = tf.keras.Model(inputs=[text_input], outputs = [l])"
   ]
  },
  {
   "cell_type": "code",
   "execution_count": 50,
   "id": "d9a43b51",
   "metadata": {},
   "outputs": [
    {
     "name": "stdout",
     "output_type": "stream",
     "text": [
      "Model: \"model\"\n",
      "__________________________________________________________________________________________________\n",
      " Layer (type)                   Output Shape         Param #     Connected to                     \n",
      "==================================================================================================\n",
      " text (InputLayer)              [(None,)]            0           []                               \n",
      "                                                                                                  \n",
      " keras_layer_3 (KerasLayer)     {'input_type_ids':   0           ['text[0][0]']                   \n",
      "                                (None, 128),                                                      \n",
      "                                 'input_word_ids':                                                \n",
      "                                (None, 128),                                                      \n",
      "                                 'input_mask': (Non                                               \n",
      "                                e, 128)}                                                          \n",
      "                                                                                                  \n",
      " keras_layer_4 (KerasLayer)     {'encoder_outputs':  109482241   ['keras_layer_3[0][0]',          \n",
      "                                 [(None, 128, 768),               'keras_layer_3[0][1]',          \n",
      "                                 (None, 128, 768),                'keras_layer_3[0][2]']          \n",
      "                                 (None, 128, 768),                                                \n",
      "                                 (None, 128, 768),                                                \n",
      "                                 (None, 128, 768),                                                \n",
      "                                 (None, 128, 768),                                                \n",
      "                                 (None, 128, 768),                                                \n",
      "                                 (None, 128, 768),                                                \n",
      "                                 (None, 128, 768),                                                \n",
      "                                 (None, 128, 768),                                                \n",
      "                                 (None, 128, 768),                                                \n",
      "                                 (None, 128, 768)],                                               \n",
      "                                 'sequence_output':                                               \n",
      "                                 (None, 128, 768),                                                \n",
      "                                 'default': (None,                                                \n",
      "                                768),                                                             \n",
      "                                 'pooled_output': (                                               \n",
      "                                None, 768)}                                                       \n",
      "                                                                                                  \n",
      " dropout (Dropout)              (None, 768)          0           ['keras_layer_4[0][13]']         \n",
      "                                                                                                  \n",
      " output (Dense)                 (None, 1)            769         ['dropout[0][0]']                \n",
      "                                                                                                  \n",
      "==================================================================================================\n",
      "Total params: 109,483,010\n",
      "Trainable params: 769\n",
      "Non-trainable params: 109,482,241\n",
      "__________________________________________________________________________________________________\n"
     ]
    }
   ],
   "source": [
    "model.summary()"
   ]
  },
  {
   "cell_type": "code",
   "execution_count": 51,
   "id": "2f435050",
   "metadata": {},
   "outputs": [
    {
     "data": {
      "text/plain": [
       "1120"
      ]
     },
     "execution_count": 51,
     "metadata": {},
     "output_type": "execute_result"
    }
   ],
   "source": [
    "len(X_train)"
   ]
  },
  {
   "cell_type": "code",
   "execution_count": 52,
   "id": "fe8be894",
   "metadata": {},
   "outputs": [],
   "source": [
    "METRICS = [\n",
    "      tf.keras.metrics.BinaryAccuracy(name='accuracy'),\n",
    "      tf.keras.metrics.Precision(name='precision'),\n",
    "      tf.keras.metrics.Recall(name='recall')\n",
    "]\n",
    "\n",
    "model.compile(optimizer='adam',\n",
    "              loss='binary_crossentropy',\n",
    "              metrics=METRICS)"
   ]
  },
  {
   "cell_type": "code",
   "execution_count": 53,
   "id": "1bc8f12e",
   "metadata": {},
   "outputs": [
    {
     "name": "stdout",
     "output_type": "stream",
     "text": [
      "Epoch 1/10\n",
      "35/35 [==============================] - 249s 7s/step - loss: 0.6631 - accuracy: 0.6089 - precision: 0.6121 - recall: 0.5946\n",
      "Epoch 2/10\n",
      "35/35 [==============================] - 247s 7s/step - loss: 0.5390 - accuracy: 0.7670 - precision: 0.7627 - recall: 0.7750\n",
      "Epoch 3/10\n",
      "35/35 [==============================] - 242s 7s/step - loss: 0.4644 - accuracy: 0.8482 - precision: 0.8385 - recall: 0.8625\n",
      "Epoch 4/10\n",
      "35/35 [==============================] - 235s 7s/step - loss: 0.4110 - accuracy: 0.8580 - precision: 0.8487 - recall: 0.8714\n",
      "Epoch 5/10\n",
      "35/35 [==============================] - 250s 7s/step - loss: 0.3781 - accuracy: 0.8875 - precision: 0.8767 - recall: 0.9018\n",
      "Epoch 6/10\n",
      "35/35 [==============================] - 293s 8s/step - loss: 0.3534 - accuracy: 0.8955 - precision: 0.8866 - recall: 0.9071\n",
      "Epoch 7/10\n",
      "35/35 [==============================] - 271s 8s/step - loss: 0.3329 - accuracy: 0.8982 - precision: 0.8899 - recall: 0.9089\n",
      "Epoch 8/10\n",
      "35/35 [==============================] - 251s 7s/step - loss: 0.3223 - accuracy: 0.8964 - precision: 0.8841 - recall: 0.9125\n",
      "Epoch 9/10\n",
      "35/35 [==============================] - 244s 7s/step - loss: 0.2966 - accuracy: 0.9170 - precision: 0.9104 - recall: 0.9250\n",
      "Epoch 10/10\n",
      "35/35 [==============================] - 242s 7s/step - loss: 0.2939 - accuracy: 0.9045 - precision: 0.8953 - recall: 0.9161\n"
     ]
    },
    {
     "data": {
      "text/plain": [
       "<keras.callbacks.History at 0x2192ac2ea90>"
      ]
     },
     "execution_count": 53,
     "metadata": {},
     "output_type": "execute_result"
    }
   ],
   "source": [
    "# Model training\n",
    "model.fit(X_train, y_train, epochs=10)"
   ]
  },
  {
   "cell_type": "code",
   "execution_count": null,
   "id": "0f046bb2",
   "metadata": {},
   "outputs": [],
   "source": [
    "model.evaluate(X_test, y_test)"
   ]
  },
  {
   "cell_type": "code",
   "execution_count": null,
   "id": "45e61c5b",
   "metadata": {},
   "outputs": [],
   "source": [
    "y_predicted = model.predict(X_test)\n",
    "y_predicted = y_predicted.flatten()"
   ]
  },
  {
   "cell_type": "code",
   "execution_count": null,
   "id": "4458dc7e",
   "metadata": {},
   "outputs": [],
   "source": [
    "import numpy as np\n",
    "\n",
    "y_predicted = np.where(y_predicted > 0.5, 1, 0)\n",
    "y_predicted"
   ]
  },
  {
   "cell_type": "code",
   "execution_count": null,
   "id": "07882fb7",
   "metadata": {},
   "outputs": [],
   "source": [
    "from sklearn.metrics import confusion_matrix, classification_report\n",
    "\n",
    "cm = confusion_matrix(y_test, y_predicted)\n",
    "cm "
   ]
  },
  {
   "cell_type": "code",
   "execution_count": null,
   "id": "fb0128e3",
   "metadata": {},
   "outputs": [],
   "source": [
    "from matplotlib import pyplot as plt\n",
    "import seaborn as sn\n",
    "sn.heatmap(cm, annot=True, fmt='d')\n",
    "plt.xlabel('Predicted')\n",
    "plt.ylabel('Truth')"
   ]
  },
  {
   "cell_type": "code",
   "execution_count": null,
   "id": "08782673",
   "metadata": {},
   "outputs": [],
   "source": [
    "print(classification_report(y_test, y_predicted))"
   ]
  },
  {
   "cell_type": "code",
   "execution_count": null,
   "id": "b942986e",
   "metadata": {},
   "outputs": [],
   "source": [
    "reviews = [\n",
    "    'Enter a chance to win $5000, hurry up, offer valid until march 31, 2021',\n",
    "    'You are awarded a SiPix Digital Camera! call 09061221061 from landline. Delivery within 28days. T Cs Box177. M221BP. 2yr warranty. 150ppm. 16 . p pÂ£3.99',\n",
    "    'it to 80488. Your 500 free text messages are valid until 31 December 2005.',\n",
    "    'Hey Sam, Are you coming for a cricket game tomorrow',\n",
    "    \"Why don't you wait 'til at least wednesday to see if you get your .\"\n",
    "]\n",
    "model.predict(reviews)"
   ]
  }
 ],
 "metadata": {
  "kernelspec": {
   "display_name": "Python 3 (ipykernel)",
   "language": "python",
   "name": "python3"
  },
  "language_info": {
   "codemirror_mode": {
    "name": "ipython",
    "version": 3
   },
   "file_extension": ".py",
   "mimetype": "text/x-python",
   "name": "python",
   "nbconvert_exporter": "python",
   "pygments_lexer": "ipython3",
   "version": "3.9.12"
  }
 },
 "nbformat": 4,
 "nbformat_minor": 5
}
