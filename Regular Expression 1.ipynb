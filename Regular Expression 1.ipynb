{
 "cells": [
  {
   "cell_type": "code",
   "execution_count": null,
   "id": "9f1fdd21",
   "metadata": {},
   "outputs": [],
   "source": [
    "import re"
   ]
  },
  {
   "cell_type": "code",
   "execution_count": null,
   "id": "b7cb3889",
   "metadata": {},
   "outputs": [],
   "source": [
    "chat1 = 'codebasics: you ask lot of questions 😠  1235678912, abc@xyz.com'\n",
    "chat2 = 'codebasics: here it is: (123)-567-8912, abc@xyz.com'\n",
    "chat3 = 'codebasics: yes, phone: 1235678912 email: abc@xyz.com'"
   ]
  },
  {
   "cell_type": "code",
   "execution_count": null,
   "id": "3fb8cb80",
   "metadata": {},
   "outputs": [],
   "source": [
    "#phone number\n",
    "(?:\\d{10}|\\(\\d{3}\\)-\\d{3}-\\d{4})"
   ]
  },
  {
   "cell_type": "code",
   "execution_count": null,
   "id": "3ec61387",
   "metadata": {},
   "outputs": [],
   "source": [
    "#emailid\n",
    "[a-zA-Z0-9_]*@[a-z]*\\.[a-zA-Z0-9]*"
   ]
  }
 ],
 "metadata": {
  "kernelspec": {
   "display_name": "Python 3 (ipykernel)",
   "language": "python",
   "name": "python3"
  },
  "language_info": {
   "codemirror_mode": {
    "name": "ipython",
    "version": 3
   },
   "file_extension": ".py",
   "mimetype": "text/x-python",
   "name": "python",
   "nbconvert_exporter": "python",
   "pygments_lexer": "ipython3",
   "version": "3.9.12"
  }
 },
 "nbformat": 4,
 "nbformat_minor": 5
}
