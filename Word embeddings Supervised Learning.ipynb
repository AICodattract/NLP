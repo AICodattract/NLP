{
 "cells": [
  {
   "cell_type": "code",
   "execution_count": 3,
   "id": "56e644fe",
   "metadata": {},
   "outputs": [],
   "source": [
    "import numpy as np\n",
    "from tensorflow.keras.preprocessing.text import one_hot\n",
    "from tensorflow.keras.preprocessing.sequence import pad_sequences\n",
    "from tensorflow.keras.models import Sequential\n",
    "from tensorflow.keras.layers import Dense\n",
    "from tensorflow.keras.layers import Flatten\n",
    "from tensorflow.keras.layers import Embedding"
   ]
  },
  {
   "cell_type": "code",
   "execution_count": 4,
   "id": "a232e741",
   "metadata": {},
   "outputs": [],
   "source": [
    "reviews = ['nice food',\n",
    "        'amazing restaurant',\n",
    "        'too good',\n",
    "        'just loved it!',\n",
    "        'will go again',\n",
    "        'horrible food',\n",
    "        'never go there',\n",
    "        'poor service',\n",
    "        'poor quality',\n",
    "        'needs improvement']\n",
    "\n",
    "sentiment = np.array([1,1,1,1,1,0,0,0,0,0])"
   ]
  },
  {
   "cell_type": "code",
   "execution_count": 10,
   "id": "3804266a",
   "metadata": {},
   "outputs": [
    {
     "data": {
      "text/plain": [
       "[61, 179, 174]"
      ]
     },
     "execution_count": 10,
     "metadata": {},
     "output_type": "execute_result"
    }
   ],
   "source": [
    "one_hot(\"just loved it\",200) # this unique numbers will be converted into 0s and 1s by the neural network Keras layers"
   ]
  },
  {
   "cell_type": "code",
   "execution_count": 16,
   "id": "26eec6d6",
   "metadata": {},
   "outputs": [
    {
     "data": {
      "text/plain": [
       "[[17, 28],\n",
       " [2, 24],\n",
       " [12, 21],\n",
       " [10, 7, 17],\n",
       " [26, 23, 2],\n",
       " [11, 28],\n",
       " [16, 23, 19],\n",
       " [28, 4],\n",
       " [28, 2],\n",
       " [1, 4]]"
      ]
     },
     "execution_count": 16,
     "metadata": {},
     "output_type": "execute_result"
    }
   ],
   "source": [
    "vocab_size = 30\n",
    "Encoded_reviews = [one_hot(d, vocab_size) for d in reviews]\n",
    "Encoded_reviews"
   ]
  },
  {
   "cell_type": "code",
   "execution_count": 17,
   "id": "5a8daf85",
   "metadata": {},
   "outputs": [
    {
     "data": {
      "text/plain": [
       "array([[17, 28,  0],\n",
       "       [ 2, 24,  0],\n",
       "       [12, 21,  0],\n",
       "       [10,  7, 17],\n",
       "       [26, 23,  2],\n",
       "       [11, 28,  0],\n",
       "       [16, 23, 19],\n",
       "       [28,  4,  0],\n",
       "       [28,  2,  0],\n",
       "       [ 1,  4,  0]])"
      ]
     },
     "execution_count": 17,
     "metadata": {},
     "output_type": "execute_result"
    }
   ],
   "source": [
    "max_length = 3\n",
    "padded_reviews = pad_sequences(Encoded_reviews, maxlen=max_length, padding='post')\n",
    "padded_reviews"
   ]
  },
  {
   "cell_type": "code",
   "execution_count": 29,
   "id": "9ca5c67f",
   "metadata": {},
   "outputs": [],
   "source": [
    "embedded_vector_size = 4\n",
    "\n",
    "model = Sequential()\n",
    "model.add(Embedding(vocab_size, embedded_vector_size, input_length=max_length, name=\"embedding\"))  # In this step 4x30 (mxn) embedding vector matrix is multiplied with 30x30 (nxp) one hot encoded vector matrix and produces the 4x30 (mxp) embeded weights matrix\n",
    "model.add(Flatten())\n",
    "model.add(Dense(1, activation='sigmoid'))"
   ]
  },
  {
   "cell_type": "code",
   "execution_count": 30,
   "id": "b01acb74",
   "metadata": {},
   "outputs": [],
   "source": [
    "X = padded_reviews\n",
    "y = sentiment"
   ]
  },
  {
   "cell_type": "code",
   "execution_count": 31,
   "id": "8dbe419e",
   "metadata": {},
   "outputs": [
    {
     "name": "stdout",
     "output_type": "stream",
     "text": [
      "Model: \"sequential_1\"\n",
      "_________________________________________________________________\n",
      " Layer (type)                Output Shape              Param #   \n",
      "=================================================================\n",
      " embedding (Embedding)       (None, 3, 4)              120       \n",
      "                                                                 \n",
      " flatten_1 (Flatten)         (None, 12)                0         \n",
      "                                                                 \n",
      " dense_1 (Dense)             (None, 1)                 13        \n",
      "                                                                 \n",
      "=================================================================\n",
      "Total params: 133\n",
      "Trainable params: 133\n",
      "Non-trainable params: 0\n",
      "_________________________________________________________________\n"
     ]
    }
   ],
   "source": [
    "model.compile(optimizer='adam', loss='binary_crossentropy', metrics=['accuracy'])\n",
    "model.summary()"
   ]
  },
  {
   "cell_type": "code",
   "execution_count": 32,
   "id": "d6ceee33",
   "metadata": {},
   "outputs": [
    {
     "data": {
      "text/plain": [
       "<keras.callbacks.History at 0x16fa5536130>"
      ]
     },
     "execution_count": 32,
     "metadata": {},
     "output_type": "execute_result"
    }
   ],
   "source": [
    "model.fit(X, y, epochs=50, verbose=0)"
   ]
  },
  {
   "cell_type": "code",
   "execution_count": 33,
   "id": "2ea26340",
   "metadata": {},
   "outputs": [
    {
     "name": "stdout",
     "output_type": "stream",
     "text": [
      "1/1 [==============================] - 0s 141ms/step - loss: 0.6395 - accuracy: 0.9000\n"
     ]
    }
   ],
   "source": [
    "loss, accuracy = model.evaluate(X,y)"
   ]
  },
  {
   "cell_type": "code",
   "execution_count": 36,
   "id": "3cbfc646",
   "metadata": {},
   "outputs": [
    {
     "data": {
      "text/plain": [
       "30"
      ]
     },
     "execution_count": 36,
     "metadata": {},
     "output_type": "execute_result"
    }
   ],
   "source": [
    "weights = model.get_layer('embedding').get_weights()[0]\n",
    "len(weights)"
   ]
  },
  {
   "cell_type": "code",
   "execution_count": 39,
   "id": "a4a0cfb7",
   "metadata": {},
   "outputs": [
    {
     "data": {
      "text/plain": [
       "array([[-0.06875117, -0.00459441,  0.06740481, -0.00716244],\n",
       "       [-0.01153784,  0.01173036,  0.07051674, -0.0984806 ],\n",
       "       [ 0.08650373, -0.0762645 , -0.07254013,  0.03763349],\n",
       "       [-0.02189356,  0.04527435, -0.00609698,  0.03980602],\n",
       "       [ 0.06044866, -0.09216749,  0.00471115,  0.07071085],\n",
       "       [ 0.01844757,  0.00897545,  0.03153353,  0.03028587],\n",
       "       [-0.03377785, -0.01382308,  0.04869263,  0.01103512],\n",
       "       [-0.05328221,  0.01691277, -0.00625883, -0.07595699],\n",
       "       [ 0.0162778 , -0.04489131, -0.04250621,  0.00242589],\n",
       "       [ 0.01754551,  0.02995079, -0.01255991,  0.00326686],\n",
       "       [ 0.06552533, -0.0603035 , -0.09876905,  0.03496297],\n",
       "       [-0.08443156,  0.0652362 ,  0.08101337, -0.00101333],\n",
       "       [ 0.08784972, -0.06186568, -0.01098832,  0.02395772],\n",
       "       [-0.01972667,  0.04656675, -0.02000442,  0.00936203],\n",
       "       [-0.04197785,  0.01441954, -0.0245476 ,  0.03036846],\n",
       "       [-0.04536804,  0.00060543,  0.00922988, -0.01848515],\n",
       "       [-0.04871845,  0.00805051,  0.03692014, -0.03871204],\n",
       "       [ 0.07380366, -0.06138953, -0.03203662,  0.00240974],\n",
       "       [-0.0268667 , -0.0156803 ,  0.03429565,  0.04595749],\n",
       "       [-0.02550476,  0.00426072,  0.07661419,  0.06225111],\n",
       "       [-0.01640035,  0.03354973, -0.04227269, -0.04160864],\n",
       "       [-0.03868046,  0.04508331, -0.02196974, -0.07246138],\n",
       "       [-0.00707332,  0.02457574,  0.046292  , -0.04356967],\n",
       "       [ 0.06402238, -0.02277537,  0.06730449,  0.03570899],\n",
       "       [-0.08475405,  0.0294105 , -0.05755925, -0.04041826],\n",
       "       [-0.00756115, -0.02163024, -0.02175017,  0.03758999],\n",
       "       [ 0.00899455, -0.03950276, -0.00995909,  0.05494433],\n",
       "       [-0.00436757, -0.03129659,  0.04095428, -0.00051972],\n",
       "       [-0.0110622 ,  0.00152835,  0.0782226 ,  0.00020261],\n",
       "       [ 0.00844093,  0.0206678 , -0.0279847 ,  0.04421831]],\n",
       "      dtype=float32)"
      ]
     },
     "execution_count": 39,
     "metadata": {},
     "output_type": "execute_result"
    }
   ],
   "source": [
    "model.get_layer('embedding').get_weights()[0]"
   ]
  },
  {
   "cell_type": "code",
   "execution_count": 40,
   "id": "c9cce017",
   "metadata": {},
   "outputs": [
    {
     "data": {
      "text/plain": [
       "array([-0.08443156,  0.0652362 ,  0.08101337, -0.00101333], dtype=float32)"
      ]
     },
     "execution_count": 40,
     "metadata": {},
     "output_type": "execute_result"
    }
   ],
   "source": [
    "weights[11]"
   ]
  },
  {
   "cell_type": "code",
   "execution_count": 41,
   "id": "4ddb494d",
   "metadata": {},
   "outputs": [
    {
     "data": {
      "text/plain": [
       "array([-0.02189356,  0.04527435, -0.00609698,  0.03980602], dtype=float32)"
      ]
     },
     "execution_count": 41,
     "metadata": {},
     "output_type": "execute_result"
    }
   ],
   "source": [
    "weights[3]"
   ]
  }
 ],
 "metadata": {
  "kernelspec": {
   "display_name": "Python 3 (ipykernel)",
   "language": "python",
   "name": "python3"
  },
  "language_info": {
   "codemirror_mode": {
    "name": "ipython",
    "version": 3
   },
   "file_extension": ".py",
   "mimetype": "text/x-python",
   "name": "python",
   "nbconvert_exporter": "python",
   "pygments_lexer": "ipython3",
   "version": "3.9.12"
  }
 },
 "nbformat": 4,
 "nbformat_minor": 5
}
