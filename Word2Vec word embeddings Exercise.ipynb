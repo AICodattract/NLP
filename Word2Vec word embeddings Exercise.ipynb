{
 "cells": [
  {
   "cell_type": "code",
   "execution_count": 1,
   "id": "f34c6c6a",
   "metadata": {},
   "outputs": [],
   "source": [
    "import pandas as pd\n",
    "import gensim"
   ]
  },
  {
   "cell_type": "code",
   "execution_count": 2,
   "id": "2cf6347f",
   "metadata": {},
   "outputs": [],
   "source": [
    "df = pd.read_json(\"reviews_Sports_and_Outdoors_5.json\", lines=True)"
   ]
  },
  {
   "cell_type": "code",
   "execution_count": 4,
   "id": "725c880d",
   "metadata": {},
   "outputs": [
    {
     "data": {
      "text/plain": [
       "reviewerID        False\n",
       "asin              False\n",
       "reviewerName       True\n",
       "helpful           False\n",
       "reviewText        False\n",
       "overall           False\n",
       "summary           False\n",
       "unixReviewTime    False\n",
       "reviewTime        False\n",
       "dtype: bool"
      ]
     },
     "execution_count": 4,
     "metadata": {},
     "output_type": "execute_result"
    }
   ],
   "source": [
    "df.isna().any()"
   ]
  },
  {
   "cell_type": "code",
   "execution_count": 5,
   "id": "84350534",
   "metadata": {},
   "outputs": [
    {
     "data": {
      "text/html": [
       "<div>\n",
       "<style scoped>\n",
       "    .dataframe tbody tr th:only-of-type {\n",
       "        vertical-align: middle;\n",
       "    }\n",
       "\n",
       "    .dataframe tbody tr th {\n",
       "        vertical-align: top;\n",
       "    }\n",
       "\n",
       "    .dataframe thead th {\n",
       "        text-align: right;\n",
       "    }\n",
       "</style>\n",
       "<table border=\"1\" class=\"dataframe\">\n",
       "  <thead>\n",
       "    <tr style=\"text-align: right;\">\n",
       "      <th></th>\n",
       "      <th>reviewerID</th>\n",
       "      <th>asin</th>\n",
       "      <th>reviewerName</th>\n",
       "      <th>helpful</th>\n",
       "      <th>reviewText</th>\n",
       "      <th>overall</th>\n",
       "      <th>summary</th>\n",
       "      <th>unixReviewTime</th>\n",
       "      <th>reviewTime</th>\n",
       "    </tr>\n",
       "  </thead>\n",
       "  <tbody>\n",
       "    <tr>\n",
       "      <th>0</th>\n",
       "      <td>AIXZKN4ACSKI</td>\n",
       "      <td>1881509818</td>\n",
       "      <td>David Briner</td>\n",
       "      <td>[0, 0]</td>\n",
       "      <td>This came in on time and I am veru happy with ...</td>\n",
       "      <td>5</td>\n",
       "      <td>Woks very good</td>\n",
       "      <td>1390694400</td>\n",
       "      <td>01 26, 2014</td>\n",
       "    </tr>\n",
       "    <tr>\n",
       "      <th>1</th>\n",
       "      <td>A1L5P841VIO02V</td>\n",
       "      <td>1881509818</td>\n",
       "      <td>Jason A. Kramer</td>\n",
       "      <td>[1, 1]</td>\n",
       "      <td>I had a factory Glock tool that I was using fo...</td>\n",
       "      <td>5</td>\n",
       "      <td>Works as well as the factory tool</td>\n",
       "      <td>1328140800</td>\n",
       "      <td>02 2, 2012</td>\n",
       "    </tr>\n",
       "    <tr>\n",
       "      <th>2</th>\n",
       "      <td>AB2W04NI4OEAD</td>\n",
       "      <td>1881509818</td>\n",
       "      <td>J. Fernald</td>\n",
       "      <td>[2, 2]</td>\n",
       "      <td>If you don't have a 3/32 punch or would like t...</td>\n",
       "      <td>4</td>\n",
       "      <td>It's a punch, that's all.</td>\n",
       "      <td>1330387200</td>\n",
       "      <td>02 28, 2012</td>\n",
       "    </tr>\n",
       "    <tr>\n",
       "      <th>3</th>\n",
       "      <td>A148SVSWKTJKU6</td>\n",
       "      <td>1881509818</td>\n",
       "      <td>Jusitn A. Watts \"Maverick9614\"</td>\n",
       "      <td>[0, 0]</td>\n",
       "      <td>This works no better than any 3/32 punch you w...</td>\n",
       "      <td>4</td>\n",
       "      <td>It's a punch with a Glock logo.</td>\n",
       "      <td>1328400000</td>\n",
       "      <td>02 5, 2012</td>\n",
       "    </tr>\n",
       "    <tr>\n",
       "      <th>4</th>\n",
       "      <td>AAAWJ6LW9WMOO</td>\n",
       "      <td>1881509818</td>\n",
       "      <td>Material Man</td>\n",
       "      <td>[0, 0]</td>\n",
       "      <td>I purchased this thinking maybe I need a speci...</td>\n",
       "      <td>4</td>\n",
       "      <td>Ok,tool does what a regular punch does.</td>\n",
       "      <td>1366675200</td>\n",
       "      <td>04 23, 2013</td>\n",
       "    </tr>\n",
       "    <tr>\n",
       "      <th>...</th>\n",
       "      <td>...</td>\n",
       "      <td>...</td>\n",
       "      <td>...</td>\n",
       "      <td>...</td>\n",
       "      <td>...</td>\n",
       "      <td>...</td>\n",
       "      <td>...</td>\n",
       "      <td>...</td>\n",
       "      <td>...</td>\n",
       "    </tr>\n",
       "    <tr>\n",
       "      <th>296332</th>\n",
       "      <td>A2XX2A4OJCDNLZ</td>\n",
       "      <td>B00LFPS0CY</td>\n",
       "      <td>RatherLiveInKeyWest</td>\n",
       "      <td>[2, 3]</td>\n",
       "      <td>This is a water bottle done right. It is a ver...</td>\n",
       "      <td>5</td>\n",
       "      <td>Hydracentials Sporty 25 Oz Stainless Steel Wat...</td>\n",
       "      <td>1405036800</td>\n",
       "      <td>07 11, 2014</td>\n",
       "    </tr>\n",
       "    <tr>\n",
       "      <th>296333</th>\n",
       "      <td>A3LGT6UZL99IW1</td>\n",
       "      <td>B00LFPS0CY</td>\n",
       "      <td>Richard C. Drew \"Anaal Nathra/Uthe vas Bethod...</td>\n",
       "      <td>[0, 0]</td>\n",
       "      <td>If you're looking for an insulated water bottl...</td>\n",
       "      <td>5</td>\n",
       "      <td>Large, incredibly well made water bottle!</td>\n",
       "      <td>1405641600</td>\n",
       "      <td>07 18, 2014</td>\n",
       "    </tr>\n",
       "    <tr>\n",
       "      <th>296334</th>\n",
       "      <td>ASKZO80Z1RKTR</td>\n",
       "      <td>B00LFPS0CY</td>\n",
       "      <td>Robin Lee</td>\n",
       "      <td>[0, 0]</td>\n",
       "      <td>This Hydracentials Sporty 25 OZ, double insula...</td>\n",
       "      <td>5</td>\n",
       "      <td>\"Great Water Bottle For Hot Day\"......</td>\n",
       "      <td>1405900800</td>\n",
       "      <td>07 21, 2014</td>\n",
       "    </tr>\n",
       "    <tr>\n",
       "      <th>296335</th>\n",
       "      <td>APRNS6DB68LLV</td>\n",
       "      <td>B00LFPS0CY</td>\n",
       "      <td>Rob Slaven \"slavenrm@gmail. com\"</td>\n",
       "      <td>[1, 1]</td>\n",
       "      <td>As usual I received this item free in exchange...</td>\n",
       "      <td>5</td>\n",
       "      <td>A pretty impressive water bottle.  Best I've s...</td>\n",
       "      <td>1405900800</td>\n",
       "      <td>07 21, 2014</td>\n",
       "    </tr>\n",
       "    <tr>\n",
       "      <th>296336</th>\n",
       "      <td>A3UJRNI8UR4871</td>\n",
       "      <td>B00LFPS0CY</td>\n",
       "      <td>Wulfstan \"wulfstan\"</td>\n",
       "      <td>[2, 2]</td>\n",
       "      <td>Hydracentials insulated 25 oz water bottle.Thi...</td>\n",
       "      <td>5</td>\n",
       "      <td>\"Cool\" Bottle!</td>\n",
       "      <td>1405382400</td>\n",
       "      <td>07 15, 2014</td>\n",
       "    </tr>\n",
       "  </tbody>\n",
       "</table>\n",
       "<p>296337 rows × 9 columns</p>\n",
       "</div>"
      ],
      "text/plain": [
       "            reviewerID        asin  \\\n",
       "0         AIXZKN4ACSKI  1881509818   \n",
       "1       A1L5P841VIO02V  1881509818   \n",
       "2        AB2W04NI4OEAD  1881509818   \n",
       "3       A148SVSWKTJKU6  1881509818   \n",
       "4        AAAWJ6LW9WMOO  1881509818   \n",
       "...                ...         ...   \n",
       "296332  A2XX2A4OJCDNLZ  B00LFPS0CY   \n",
       "296333  A3LGT6UZL99IW1  B00LFPS0CY   \n",
       "296334   ASKZO80Z1RKTR  B00LFPS0CY   \n",
       "296335   APRNS6DB68LLV  B00LFPS0CY   \n",
       "296336  A3UJRNI8UR4871  B00LFPS0CY   \n",
       "\n",
       "                                            reviewerName helpful  \\\n",
       "0                                           David Briner  [0, 0]   \n",
       "1                                        Jason A. Kramer  [1, 1]   \n",
       "2                                             J. Fernald  [2, 2]   \n",
       "3                         Jusitn A. Watts \"Maverick9614\"  [0, 0]   \n",
       "4                                           Material Man  [0, 0]   \n",
       "...                                                  ...     ...   \n",
       "296332                               RatherLiveInKeyWest  [2, 3]   \n",
       "296333  Richard C. Drew \"Anaal Nathra/Uthe vas Bethod...  [0, 0]   \n",
       "296334                                         Robin Lee  [0, 0]   \n",
       "296335                  Rob Slaven \"slavenrm@gmail. com\"  [1, 1]   \n",
       "296336                               Wulfstan \"wulfstan\"  [2, 2]   \n",
       "\n",
       "                                               reviewText  overall  \\\n",
       "0       This came in on time and I am veru happy with ...        5   \n",
       "1       I had a factory Glock tool that I was using fo...        5   \n",
       "2       If you don't have a 3/32 punch or would like t...        4   \n",
       "3       This works no better than any 3/32 punch you w...        4   \n",
       "4       I purchased this thinking maybe I need a speci...        4   \n",
       "...                                                   ...      ...   \n",
       "296332  This is a water bottle done right. It is a ver...        5   \n",
       "296333  If you're looking for an insulated water bottl...        5   \n",
       "296334  This Hydracentials Sporty 25 OZ, double insula...        5   \n",
       "296335  As usual I received this item free in exchange...        5   \n",
       "296336  Hydracentials insulated 25 oz water bottle.Thi...        5   \n",
       "\n",
       "                                                  summary  unixReviewTime  \\\n",
       "0                                          Woks very good      1390694400   \n",
       "1                       Works as well as the factory tool      1328140800   \n",
       "2                               It's a punch, that's all.      1330387200   \n",
       "3                         It's a punch with a Glock logo.      1328400000   \n",
       "4                 Ok,tool does what a regular punch does.      1366675200   \n",
       "...                                                   ...             ...   \n",
       "296332  Hydracentials Sporty 25 Oz Stainless Steel Wat...      1405036800   \n",
       "296333          Large, incredibly well made water bottle!      1405641600   \n",
       "296334             \"Great Water Bottle For Hot Day\"......      1405900800   \n",
       "296335  A pretty impressive water bottle.  Best I've s...      1405900800   \n",
       "296336                                     \"Cool\" Bottle!      1405382400   \n",
       "\n",
       "         reviewTime  \n",
       "0       01 26, 2014  \n",
       "1        02 2, 2012  \n",
       "2       02 28, 2012  \n",
       "3        02 5, 2012  \n",
       "4       04 23, 2013  \n",
       "...             ...  \n",
       "296332  07 11, 2014  \n",
       "296333  07 18, 2014  \n",
       "296334  07 21, 2014  \n",
       "296335  07 21, 2014  \n",
       "296336  07 15, 2014  \n",
       "\n",
       "[296337 rows x 9 columns]"
      ]
     },
     "execution_count": 5,
     "metadata": {},
     "output_type": "execute_result"
    }
   ],
   "source": [
    "df"
   ]
  },
  {
   "cell_type": "code",
   "execution_count": 6,
   "id": "5f2bae65",
   "metadata": {},
   "outputs": [
    {
     "data": {
      "text/plain": [
       "\"Very bright.  I would recommend this lite to anyone.  I put one on my wife's bike.  I love this light.\""
      ]
     },
     "execution_count": 6,
     "metadata": {},
     "output_type": "execute_result"
    }
   ],
   "source": [
    "df.reviewText[10]"
   ]
  },
  {
   "cell_type": "code",
   "execution_count": 7,
   "id": "745fd7db",
   "metadata": {},
   "outputs": [
    {
     "data": {
      "text/plain": [
       "['very',\n",
       " 'bright',\n",
       " 'would',\n",
       " 'recommend',\n",
       " 'this',\n",
       " 'lite',\n",
       " 'to',\n",
       " 'anyone',\n",
       " 'put',\n",
       " 'one',\n",
       " 'on',\n",
       " 'my',\n",
       " 'wife',\n",
       " 'bike',\n",
       " 'love',\n",
       " 'this',\n",
       " 'light']"
      ]
     },
     "execution_count": 7,
     "metadata": {},
     "output_type": "execute_result"
    }
   ],
   "source": [
    "gensim.utils.simple_preprocess(\"Very bright.  I would recommend this lite to anyone.  I put one on my wife's bike.  I love this light.\")"
   ]
  },
  {
   "cell_type": "code",
   "execution_count": 8,
   "id": "b28b9e82",
   "metadata": {},
   "outputs": [],
   "source": [
    "reviewtext = df.reviewText.apply(gensim.utils.simple_preprocess)"
   ]
  },
  {
   "cell_type": "code",
   "execution_count": 9,
   "id": "70291dd8",
   "metadata": {},
   "outputs": [
    {
     "data": {
      "text/plain": [
       "0         [this, came, in, on, time, and, am, veru, happ...\n",
       "1         [had, factory, glock, tool, that, was, using, ...\n",
       "2         [if, you, don, have, punch, or, would, like, t...\n",
       "3         [this, works, no, better, than, any, punch, yo...\n",
       "4         [purchased, this, thinking, maybe, need, speci...\n",
       "                                ...                        \n",
       "296332    [this, is, water, bottle, done, right, it, is,...\n",
       "296333    [if, you, re, looking, for, an, insulated, wat...\n",
       "296334    [this, hydracentials, sporty, oz, double, insu...\n",
       "296335    [as, usual, received, this, item, free, in, ex...\n",
       "296336    [hydracentials, insulated, oz, water, bottle, ...\n",
       "Name: reviewText, Length: 296337, dtype: object"
      ]
     },
     "execution_count": 9,
     "metadata": {},
     "output_type": "execute_result"
    }
   ],
   "source": [
    "reviewtext"
   ]
  },
  {
   "cell_type": "code",
   "execution_count": 10,
   "id": "d3823cc8",
   "metadata": {},
   "outputs": [],
   "source": [
    "model = gensim.models.Word2Vec(\n",
    "window=10,\n",
    "    min_count=2,\n",
    "    workers=4\n",
    ")"
   ]
  },
  {
   "cell_type": "code",
   "execution_count": 14,
   "id": "04cd967e",
   "metadata": {},
   "outputs": [],
   "source": [
    "model.build_vocab(reviewtext, progress_per=1000)"
   ]
  },
  {
   "cell_type": "code",
   "execution_count": 15,
   "id": "b7ecc30a",
   "metadata": {},
   "outputs": [
    {
     "data": {
      "text/plain": [
       "296337"
      ]
     },
     "execution_count": 15,
     "metadata": {},
     "output_type": "execute_result"
    }
   ],
   "source": [
    "model.corpus_count"
   ]
  },
  {
   "cell_type": "code",
   "execution_count": 12,
   "id": "f26f2812",
   "metadata": {},
   "outputs": [
    {
     "data": {
      "text/plain": [
       "5"
      ]
     },
     "execution_count": 12,
     "metadata": {},
     "output_type": "execute_result"
    }
   ],
   "source": [
    "model.epochs"
   ]
  },
  {
   "cell_type": "code",
   "execution_count": 16,
   "id": "f2889510",
   "metadata": {},
   "outputs": [
    {
     "data": {
      "text/plain": [
       "(91337697, 121496535)"
      ]
     },
     "execution_count": 16,
     "metadata": {},
     "output_type": "execute_result"
    }
   ],
   "source": [
    "model.train(reviewtext, total_examples=model.corpus_count, epochs=model.epochs)"
   ]
  },
  {
   "cell_type": "code",
   "execution_count": 17,
   "id": "ea0be97a",
   "metadata": {},
   "outputs": [],
   "source": [
    "model.save(\"./Word2Vec_SportsOutdoorReview.model\")"
   ]
  },
  {
   "cell_type": "code",
   "execution_count": 18,
   "id": "abaca9a1",
   "metadata": {},
   "outputs": [
    {
     "data": {
      "text/plain": [
       "[('powerfull', 0.769551157951355),\n",
       " ('accurate', 0.7220982313156128),\n",
       " ('acurate', 0.6757499575614929),\n",
       " ('realistic', 0.6283733248710632),\n",
       " ('loud', 0.6199284195899963),\n",
       " ('blowback', 0.5837005376815796),\n",
       " ('silent', 0.5720466375350952),\n",
       " ('quiet', 0.5596832633018494),\n",
       " ('fps', 0.5491445660591125),\n",
       " ('deadly', 0.549020528793335)]"
      ]
     },
     "execution_count": 18,
     "metadata": {},
     "output_type": "execute_result"
    }
   ],
   "source": [
    "model.wv.most_similar(\"powerful\")"
   ]
  },
  {
   "cell_type": "code",
   "execution_count": 20,
   "id": "e9b880e7",
   "metadata": {},
   "outputs": [
    {
     "data": {
      "text/plain": [
       "[('before', 0.6433992385864258),\n",
       " ('after', 0.5639856457710266),\n",
       " ('upon', 0.5483893156051636),\n",
       " ('contemplated', 0.5011894702911377),\n",
       " ('mistakenly', 0.4927839934825897),\n",
       " ('beforehand', 0.4887883961200714),\n",
       " ('foulest', 0.48185789585113525),\n",
       " ('previously', 0.4681229293346405),\n",
       " ('resumed', 0.45928531885147095),\n",
       " ('reverted', 0.45634669065475464)]"
      ]
     },
     "execution_count": 20,
     "metadata": {},
     "output_type": "execute_result"
    }
   ],
   "source": [
    "model.wv.similar_by_word(\"prior\")"
   ]
  },
  {
   "cell_type": "code",
   "execution_count": 23,
   "id": "c0672523",
   "metadata": {},
   "outputs": [
    {
     "data": {
      "text/plain": [
       "0.6887417"
      ]
     },
     "execution_count": 23,
     "metadata": {},
     "output_type": "execute_result"
    }
   ],
   "source": [
    "model.wv.similarity(w1=\"excellent\", w2=\"superb\")"
   ]
  }
 ],
 "metadata": {
  "kernelspec": {
   "display_name": "Python 3 (ipykernel)",
   "language": "python",
   "name": "python3"
  },
  "language_info": {
   "codemirror_mode": {
    "name": "ipython",
    "version": 3
   },
   "file_extension": ".py",
   "mimetype": "text/x-python",
   "name": "python",
   "nbconvert_exporter": "python",
   "pygments_lexer": "ipython3",
   "version": "3.9.12"
  }
 },
 "nbformat": 4,
 "nbformat_minor": 5
}
