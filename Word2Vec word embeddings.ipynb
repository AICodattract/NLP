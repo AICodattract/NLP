{
 "cells": [
  {
   "cell_type": "code",
   "execution_count": 3,
   "id": "3f91e849",
   "metadata": {},
   "outputs": [],
   "source": [
    "#!pip install python-Levenshtein"
   ]
  },
  {
   "cell_type": "code",
   "execution_count": 1,
   "id": "040dca40",
   "metadata": {},
   "outputs": [],
   "source": [
    "import gensim\n",
    "import pandas as pd"
   ]
  },
  {
   "cell_type": "code",
   "execution_count": 2,
   "id": "6f5757b4",
   "metadata": {},
   "outputs": [],
   "source": [
    "df = pd.read_json(\"Cell_Phones_and_Accessories.json\", lines=True, nrows=194439 )"
   ]
  },
  {
   "cell_type": "code",
   "execution_count": 3,
   "id": "70596f9b",
   "metadata": {},
   "outputs": [
    {
     "data": {
      "text/plain": [
       "(194439, 12)"
      ]
     },
     "execution_count": 3,
     "metadata": {},
     "output_type": "execute_result"
    }
   ],
   "source": [
    "df.shape"
   ]
  },
  {
   "cell_type": "code",
   "execution_count": 4,
   "id": "c15333a0",
   "metadata": {},
   "outputs": [
    {
     "data": {
      "text/html": [
       "<div>\n",
       "<style scoped>\n",
       "    .dataframe tbody tr th:only-of-type {\n",
       "        vertical-align: middle;\n",
       "    }\n",
       "\n",
       "    .dataframe tbody tr th {\n",
       "        vertical-align: top;\n",
       "    }\n",
       "\n",
       "    .dataframe thead th {\n",
       "        text-align: right;\n",
       "    }\n",
       "</style>\n",
       "<table border=\"1\" class=\"dataframe\">\n",
       "  <thead>\n",
       "    <tr style=\"text-align: right;\">\n",
       "      <th></th>\n",
       "      <th>overall</th>\n",
       "      <th>verified</th>\n",
       "      <th>reviewTime</th>\n",
       "      <th>reviewerID</th>\n",
       "      <th>asin</th>\n",
       "      <th>reviewerName</th>\n",
       "      <th>reviewText</th>\n",
       "      <th>summary</th>\n",
       "      <th>unixReviewTime</th>\n",
       "      <th>vote</th>\n",
       "      <th>image</th>\n",
       "      <th>style</th>\n",
       "    </tr>\n",
       "  </thead>\n",
       "  <tbody>\n",
       "    <tr>\n",
       "      <th>0</th>\n",
       "      <td>5</td>\n",
       "      <td>False</td>\n",
       "      <td>11 19, 2014</td>\n",
       "      <td>A1GG51FWU0XQYH</td>\n",
       "      <td>098949232X</td>\n",
       "      <td>Paul Williams</td>\n",
       "      <td>If your into space this is the Calendar for you.</td>\n",
       "      <td>Five Stars</td>\n",
       "      <td>1416355200</td>\n",
       "      <td>NaN</td>\n",
       "      <td>NaN</td>\n",
       "      <td>NaN</td>\n",
       "    </tr>\n",
       "    <tr>\n",
       "      <th>1</th>\n",
       "      <td>5</td>\n",
       "      <td>False</td>\n",
       "      <td>11 19, 2014</td>\n",
       "      <td>AVFIDS9RK38E0</td>\n",
       "      <td>098949232X</td>\n",
       "      <td>Sean Powell</td>\n",
       "      <td>Awesome pictures!</td>\n",
       "      <td>Five Stars</td>\n",
       "      <td>1416355200</td>\n",
       "      <td>NaN</td>\n",
       "      <td>NaN</td>\n",
       "      <td>NaN</td>\n",
       "    </tr>\n",
       "    <tr>\n",
       "      <th>2</th>\n",
       "      <td>5</td>\n",
       "      <td>False</td>\n",
       "      <td>11 19, 2014</td>\n",
       "      <td>A2S4AVR5SJ7KMI</td>\n",
       "      <td>098949232X</td>\n",
       "      <td>Tom Davis</td>\n",
       "      <td>Great wall art and information for space explo...</td>\n",
       "      <td>Five Stars</td>\n",
       "      <td>1416355200</td>\n",
       "      <td>NaN</td>\n",
       "      <td>NaN</td>\n",
       "      <td>NaN</td>\n",
       "    </tr>\n",
       "    <tr>\n",
       "      <th>3</th>\n",
       "      <td>5</td>\n",
       "      <td>False</td>\n",
       "      <td>11 19, 2014</td>\n",
       "      <td>AEMMMVOR9BFLI</td>\n",
       "      <td>098949232X</td>\n",
       "      <td>Kwajmeck</td>\n",
       "      <td>As always, it is a quality calendar full of ve...</td>\n",
       "      <td>I love it. I buy a new one every year</td>\n",
       "      <td>1416355200</td>\n",
       "      <td>NaN</td>\n",
       "      <td>NaN</td>\n",
       "      <td>NaN</td>\n",
       "    </tr>\n",
       "    <tr>\n",
       "      <th>4</th>\n",
       "      <td>5</td>\n",
       "      <td>False</td>\n",
       "      <td>11 19, 2014</td>\n",
       "      <td>A2DZXMBTY7KLYP</td>\n",
       "      <td>098949232X</td>\n",
       "      <td>ScottG43</td>\n",
       "      <td>This is a fantastic calendar. This is my third...</td>\n",
       "      <td>Great Calendar.</td>\n",
       "      <td>1416355200</td>\n",
       "      <td>NaN</td>\n",
       "      <td>NaN</td>\n",
       "      <td>NaN</td>\n",
       "    </tr>\n",
       "  </tbody>\n",
       "</table>\n",
       "</div>"
      ],
      "text/plain": [
       "   overall  verified   reviewTime      reviewerID        asin   reviewerName  \\\n",
       "0        5     False  11 19, 2014  A1GG51FWU0XQYH  098949232X  Paul Williams   \n",
       "1        5     False  11 19, 2014   AVFIDS9RK38E0  098949232X    Sean Powell   \n",
       "2        5     False  11 19, 2014  A2S4AVR5SJ7KMI  098949232X      Tom Davis   \n",
       "3        5     False  11 19, 2014   AEMMMVOR9BFLI  098949232X       Kwajmeck   \n",
       "4        5     False  11 19, 2014  A2DZXMBTY7KLYP  098949232X       ScottG43   \n",
       "\n",
       "                                          reviewText  \\\n",
       "0   If your into space this is the Calendar for you.   \n",
       "1                                  Awesome pictures!   \n",
       "2  Great wall art and information for space explo...   \n",
       "3  As always, it is a quality calendar full of ve...   \n",
       "4  This is a fantastic calendar. This is my third...   \n",
       "\n",
       "                                 summary  unixReviewTime vote image style  \n",
       "0                             Five Stars      1416355200  NaN   NaN   NaN  \n",
       "1                             Five Stars      1416355200  NaN   NaN   NaN  \n",
       "2                             Five Stars      1416355200  NaN   NaN   NaN  \n",
       "3  I love it. I buy a new one every year      1416355200  NaN   NaN   NaN  \n",
       "4                        Great Calendar.      1416355200  NaN   NaN   NaN  "
      ]
     },
     "execution_count": 4,
     "metadata": {},
     "output_type": "execute_result"
    }
   ],
   "source": [
    "df.head()"
   ]
  },
  {
   "cell_type": "code",
   "execution_count": 5,
   "id": "8888e327",
   "metadata": {},
   "outputs": [
    {
     "data": {
      "text/plain": [
       "overall                0\n",
       "verified               0\n",
       "reviewTime             0\n",
       "reviewerID             0\n",
       "asin                   0\n",
       "reviewerName          11\n",
       "reviewText            28\n",
       "summary               24\n",
       "unixReviewTime         0\n",
       "vote              159783\n",
       "image             193575\n",
       "style             148969\n",
       "dtype: int64"
      ]
     },
     "execution_count": 5,
     "metadata": {},
     "output_type": "execute_result"
    }
   ],
   "source": [
    "df.isnull().sum()"
   ]
  },
  {
   "cell_type": "code",
   "execution_count": 6,
   "id": "400df273",
   "metadata": {},
   "outputs": [],
   "source": [
    "df.drop(['vote','image','style'], axis = 1, inplace=True)"
   ]
  },
  {
   "cell_type": "code",
   "execution_count": 7,
   "id": "e7746cc6",
   "metadata": {},
   "outputs": [
    {
     "data": {
      "text/plain": [
       "Index(['overall', 'verified', 'reviewTime', 'reviewerID', 'asin',\n",
       "       'reviewerName', 'reviewText', 'summary', 'unixReviewTime'],\n",
       "      dtype='object')"
      ]
     },
     "execution_count": 7,
     "metadata": {},
     "output_type": "execute_result"
    }
   ],
   "source": [
    "df.columns"
   ]
  },
  {
   "cell_type": "code",
   "execution_count": 8,
   "id": "12f2222a",
   "metadata": {},
   "outputs": [],
   "source": [
    "df.dropna(subset=['reviewText'],inplace=True)"
   ]
  },
  {
   "cell_type": "code",
   "execution_count": 9,
   "id": "2d3ae93b",
   "metadata": {},
   "outputs": [
    {
     "data": {
      "text/plain": [
       "0         [if, your, into, space, this, is, the, calenda...\n",
       "1                                       [awesome, pictures]\n",
       "2         [great, wall, art, and, information, for, spac...\n",
       "3         [as, always, it, is, quality, calendar, full, ...\n",
       "4         [this, is, fantastic, calendar, this, is, my, ...\n",
       "                                ...                        \n",
       "194434    [and, the, price, is, right, just, be, careful...\n",
       "194435    [if, think, to, fix, ur, screen, this, is, the...\n",
       "194436    [this, product, was, exactly, what, needed, my...\n",
       "194437    [so, got, this, and, had, all, the, confidence...\n",
       "194438    [the, day, gt, the, item, in, it, came, all, b...\n",
       "Name: reviewText, Length: 194411, dtype: object"
      ]
     },
     "execution_count": 9,
     "metadata": {},
     "output_type": "execute_result"
    }
   ],
   "source": [
    "reviewtext = df.reviewText.apply(gensim.utils.simple_preprocess)\n",
    "reviewtext"
   ]
  },
  {
   "cell_type": "code",
   "execution_count": 10,
   "id": "4f0066a1",
   "metadata": {},
   "outputs": [],
   "source": [
    "model = gensim.models.Word2Vec(\n",
    "    window=10,\n",
    "    min_count=2,\n",
    "    workers=4\n",
    ")"
   ]
  },
  {
   "cell_type": "code",
   "execution_count": 11,
   "id": "43ec1d05",
   "metadata": {},
   "outputs": [],
   "source": [
    "model.build_vocab(reviewtext, progress_per=1000)"
   ]
  },
  {
   "cell_type": "code",
   "execution_count": 33,
   "id": "fe8ac018",
   "metadata": {},
   "outputs": [
    {
     "data": {
      "text/plain": [
       "5"
      ]
     },
     "execution_count": 33,
     "metadata": {},
     "output_type": "execute_result"
    }
   ],
   "source": [
    "model.epochs"
   ]
  },
  {
   "cell_type": "code",
   "execution_count": 18,
   "id": "b301722c",
   "metadata": {},
   "outputs": [
    {
     "data": {
      "text/plain": [
       "194411"
      ]
     },
     "execution_count": 18,
     "metadata": {},
     "output_type": "execute_result"
    }
   ],
   "source": [
    "model.corpus_count"
   ]
  },
  {
   "cell_type": "code",
   "execution_count": 19,
   "id": "81053138",
   "metadata": {},
   "outputs": [
    {
     "data": {
      "text/plain": [
       "(48984677, 66298290)"
      ]
     },
     "execution_count": 19,
     "metadata": {},
     "output_type": "execute_result"
    }
   ],
   "source": [
    "model.train(reviewtext, total_examples=model.corpus_count, epochs=model.epochs)"
   ]
  },
  {
   "cell_type": "code",
   "execution_count": 38,
   "id": "3c58868b",
   "metadata": {},
   "outputs": [],
   "source": [
    "model.save(\"./Word2Vec_cellPhoneReview.model\")"
   ]
  },
  {
   "cell_type": "code",
   "execution_count": 20,
   "id": "4f88af94",
   "metadata": {},
   "outputs": [
    {
     "data": {
      "text/plain": [
       "[('gross', 0.5250231623649597),\n",
       " ('relaxing', 0.5210461020469666),\n",
       " ('glorious', 0.5208073258399963),\n",
       " ('tiniest', 0.51731276512146),\n",
       " ('guilty', 0.5165615677833557),\n",
       " ('soothing', 0.510646641254425),\n",
       " ('cristal', 0.5072171092033386),\n",
       " ('sprayed', 0.5065256357192993),\n",
       " ('sparkly', 0.4945668876171112),\n",
       " ('ish', 0.4944678246974945)]"
      ]
     },
     "execution_count": 20,
     "metadata": {},
     "output_type": "execute_result"
    }
   ],
   "source": [
    "model.wv.most_similar(\"meticulous\")"
   ]
  },
  {
   "cell_type": "code",
   "execution_count": 43,
   "id": "3f907f6a",
   "metadata": {},
   "outputs": [
    {
     "data": {
      "text/plain": [
       "0.6703054"
      ]
     },
     "execution_count": 43,
     "metadata": {},
     "output_type": "execute_result"
    }
   ],
   "source": [
    "model.wv.similarity(w1=\"good\", w2=\"excellent\")"
   ]
  },
  {
   "cell_type": "code",
   "execution_count": 25,
   "id": "d997d7b8",
   "metadata": {},
   "outputs": [
    {
     "data": {
      "text/plain": [
       "array([ 0.09097162,  0.08851554,  0.01132196, -0.11369427, -0.10771075,\n",
       "       -0.0751113 , -0.06356426, -0.17785248,  0.0881972 ,  0.04092099,\n",
       "        0.16606693, -0.06294592,  0.0126646 , -0.12442543,  0.04439859,\n",
       "       -0.10171369,  0.04110705, -0.14625336,  0.03391758, -0.22374538,\n",
       "        0.11030564,  0.09268478, -0.05844152, -0.08571649,  0.05608038,\n",
       "        0.17100948, -0.05050996, -0.14422442,  0.07413103, -0.1325263 ,\n",
       "        0.1245209 ,  0.03308031, -0.14501259, -0.03488262, -0.04455252,\n",
       "       -0.08885471,  0.16459511,  0.04223958, -0.18182789,  0.08574769,\n",
       "        0.04447589, -0.02765994,  0.12003502, -0.03773129, -0.0851194 ,\n",
       "       -0.15158148,  0.01083875,  0.05961479, -0.07157851, -0.0906005 ,\n",
       "        0.00337408,  0.0941468 ,  0.06383246,  0.17529014,  0.03803365,\n",
       "        0.08725906, -0.06006895, -0.04390658,  0.06991064, -0.05708609,\n",
       "       -0.03282199, -0.14792357,  0.12967816, -0.11337789,  0.23706305,\n",
       "        0.13507584,  0.09988891,  0.01926849,  0.10781994, -0.15050775,\n",
       "       -0.22490837, -0.00404902,  0.00435949,  0.07229757,  0.10155921,\n",
       "       -0.07035283,  0.02936613,  0.05012383,  0.19619523, -0.08456464,\n",
       "        0.12211642, -0.06348473, -0.04340368, -0.02781044, -0.0066976 ,\n",
       "       -0.0601947 ,  0.06422508,  0.05008535, -0.1270872 ,  0.0528736 ,\n",
       "       -0.09651713, -0.03740513, -0.13903685,  0.02659402, -0.01490362,\n",
       "        0.0213185 ,  0.00519361, -0.09952718, -0.16230085,  0.06113339],\n",
       "      dtype=float32)"
      ]
     },
     "execution_count": 25,
     "metadata": {},
     "output_type": "execute_result"
    }
   ],
   "source": [
    "model.wv.get_vector(\"good\", norm=True)"
   ]
  },
  {
   "cell_type": "code",
   "execution_count": 26,
   "id": "593debbd",
   "metadata": {},
   "outputs": [],
   "source": [
    "all_normed_vectors = model.wv.get_normed_vectors()"
   ]
  },
  {
   "cell_type": "code",
   "execution_count": 33,
   "id": "5d80e356",
   "metadata": {},
   "outputs": [
    {
     "data": {
      "text/plain": [
       "(36606, 100)"
      ]
     },
     "execution_count": 33,
     "metadata": {},
     "output_type": "execute_result"
    }
   ],
   "source": [
    "all_normed_vectors.shape"
   ]
  },
  {
   "cell_type": "code",
   "execution_count": 31,
   "id": "c54d2a13",
   "metadata": {},
   "outputs": [
    {
     "data": {
      "text/plain": [
       "100"
      ]
     },
     "execution_count": 31,
     "metadata": {},
     "output_type": "execute_result"
    }
   ],
   "source": [
    "len(all_normed_vectors[0])"
   ]
  },
  {
   "cell_type": "code",
   "execution_count": null,
   "id": "dde94217",
   "metadata": {},
   "outputs": [],
   "source": [
    "my_dict = dict({})\n",
    "for idx, key in enumerate(model.wv.vocab):\n",
    "    my_dict[key] = model.wv[key]"
   ]
  }
 ],
 "metadata": {
  "kernelspec": {
   "display_name": "Python 3 (ipykernel)",
   "language": "python",
   "name": "python3"
  },
  "language_info": {
   "codemirror_mode": {
    "name": "ipython",
    "version": 3
   },
   "file_extension": ".py",
   "mimetype": "text/x-python",
   "name": "python",
   "nbconvert_exporter": "python",
   "pygments_lexer": "ipython3",
   "version": "3.9.12"
  }
 },
 "nbformat": 4,
 "nbformat_minor": 5
}
